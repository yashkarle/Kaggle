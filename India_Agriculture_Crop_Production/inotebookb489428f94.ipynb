{
 "cells": [
  {
   "cell_type": "code",
   "execution_count": 1,
   "id": "5d5684fb",
   "metadata": {
    "_cell_guid": "b1076dfc-b9ad-4769-8c92-a6c4dae69d19",
    "_uuid": "8f2839f25d086af736a60e9eeb907d3b93b6e0e5",
    "execution": {
     "iopub.execute_input": "2023-04-07T11:54:20.357439Z",
     "iopub.status.busy": "2023-04-07T11:54:20.356490Z",
     "iopub.status.idle": "2023-04-07T11:54:20.379159Z",
     "shell.execute_reply": "2023-04-07T11:54:20.377680Z"
    },
    "papermill": {
     "duration": 0.039527,
     "end_time": "2023-04-07T11:54:20.381788",
     "exception": false,
     "start_time": "2023-04-07T11:54:20.342261",
     "status": "completed"
    },
    "tags": []
   },
   "outputs": [
    {
     "name": "stdout",
     "output_type": "stream",
     "text": [
      "/kaggle/input/india-agriculture-crop-production/India Agriculture Crop Production.csv\n"
     ]
    }
   ],
   "source": [
    "# This Python 3 environment comes with many helpful analytics libraries installed\n",
    "# It is defined by the kaggle/python Docker image: https://github.com/kaggle/docker-python\n",
    "# For example, here's several helpful packages to load\n",
    "\n",
    "import numpy as np # linear algebra\n",
    "import pandas as pd # data processing, CSV file I/O (e.g. pd.read_csv)\n",
    "\n",
    "# Input data files are available in the read-only \"../input/\" directory\n",
    "# For example, running this (by clicking run or pressing Shift+Enter) will list all files under the input directory\n",
    "\n",
    "import os\n",
    "for dirname, _, filenames in os.walk('/kaggle/input'):\n",
    "    for filename in filenames:\n",
    "        print(os.path.join(dirname, filename))\n",
    "\n",
    "# You can write up to 20GB to the current directory (/kaggle/working/) that gets preserved as output when you create a version using \"Save & Run All\" \n",
    "# You can also write temporary files to /kaggle/temp/, but they won't be saved outside of the current session"
   ]
  },
  {
   "cell_type": "code",
   "execution_count": 2,
   "id": "0443165d",
   "metadata": {
    "execution": {
     "iopub.execute_input": "2023-04-07T11:54:20.405233Z",
     "iopub.status.busy": "2023-04-07T11:54:20.404848Z",
     "iopub.status.idle": "2023-04-07T11:54:21.419715Z",
     "shell.execute_reply": "2023-04-07T11:54:21.418581Z"
    },
    "papermill": {
     "duration": 1.02964,
     "end_time": "2023-04-07T11:54:21.422306",
     "exception": false,
     "start_time": "2023-04-07T11:54:20.392666",
     "status": "completed"
    },
    "tags": []
   },
   "outputs": [
    {
     "data": {
      "text/html": [
       "<div>\n",
       "<style scoped>\n",
       "    .dataframe tbody tr th:only-of-type {\n",
       "        vertical-align: middle;\n",
       "    }\n",
       "\n",
       "    .dataframe tbody tr th {\n",
       "        vertical-align: top;\n",
       "    }\n",
       "\n",
       "    .dataframe thead th {\n",
       "        text-align: right;\n",
       "    }\n",
       "</style>\n",
       "<table border=\"1\" class=\"dataframe\">\n",
       "  <thead>\n",
       "    <tr style=\"text-align: right;\">\n",
       "      <th></th>\n",
       "      <th>State</th>\n",
       "      <th>District</th>\n",
       "      <th>Crop</th>\n",
       "      <th>Year</th>\n",
       "      <th>Season</th>\n",
       "      <th>Area</th>\n",
       "      <th>Area Units</th>\n",
       "      <th>Production</th>\n",
       "      <th>Production Units</th>\n",
       "      <th>Yield</th>\n",
       "    </tr>\n",
       "  </thead>\n",
       "  <tbody>\n",
       "    <tr>\n",
       "      <th>0</th>\n",
       "      <td>Andaman and Nicobar Islands</td>\n",
       "      <td>NICOBARS</td>\n",
       "      <td>Arecanut</td>\n",
       "      <td>2001-02</td>\n",
       "      <td>Kharif</td>\n",
       "      <td>1254.0</td>\n",
       "      <td>Hectare</td>\n",
       "      <td>2061.0</td>\n",
       "      <td>Tonnes</td>\n",
       "      <td>1.643541</td>\n",
       "    </tr>\n",
       "    <tr>\n",
       "      <th>1</th>\n",
       "      <td>Andaman and Nicobar Islands</td>\n",
       "      <td>NICOBARS</td>\n",
       "      <td>Arecanut</td>\n",
       "      <td>2002-03</td>\n",
       "      <td>Whole Year</td>\n",
       "      <td>1258.0</td>\n",
       "      <td>Hectare</td>\n",
       "      <td>2083.0</td>\n",
       "      <td>Tonnes</td>\n",
       "      <td>1.655803</td>\n",
       "    </tr>\n",
       "    <tr>\n",
       "      <th>2</th>\n",
       "      <td>Andaman and Nicobar Islands</td>\n",
       "      <td>NICOBARS</td>\n",
       "      <td>Arecanut</td>\n",
       "      <td>2003-04</td>\n",
       "      <td>Whole Year</td>\n",
       "      <td>1261.0</td>\n",
       "      <td>Hectare</td>\n",
       "      <td>1525.0</td>\n",
       "      <td>Tonnes</td>\n",
       "      <td>1.209358</td>\n",
       "    </tr>\n",
       "    <tr>\n",
       "      <th>3</th>\n",
       "      <td>Andaman and Nicobar Islands</td>\n",
       "      <td>NORTH AND MIDDLE ANDAMAN</td>\n",
       "      <td>Arecanut</td>\n",
       "      <td>2001-02</td>\n",
       "      <td>Kharif</td>\n",
       "      <td>3100.0</td>\n",
       "      <td>Hectare</td>\n",
       "      <td>5239.0</td>\n",
       "      <td>Tonnes</td>\n",
       "      <td>1.690000</td>\n",
       "    </tr>\n",
       "    <tr>\n",
       "      <th>4</th>\n",
       "      <td>Andaman and Nicobar Islands</td>\n",
       "      <td>SOUTH ANDAMANS</td>\n",
       "      <td>Arecanut</td>\n",
       "      <td>2002-03</td>\n",
       "      <td>Whole Year</td>\n",
       "      <td>3105.0</td>\n",
       "      <td>Hectare</td>\n",
       "      <td>5267.0</td>\n",
       "      <td>Tonnes</td>\n",
       "      <td>1.696296</td>\n",
       "    </tr>\n",
       "  </tbody>\n",
       "</table>\n",
       "</div>"
      ],
      "text/plain": [
       "                         State                  District      Crop     Year  \\\n",
       "0  Andaman and Nicobar Islands                  NICOBARS  Arecanut  2001-02   \n",
       "1  Andaman and Nicobar Islands                  NICOBARS  Arecanut  2002-03   \n",
       "2  Andaman and Nicobar Islands                  NICOBARS  Arecanut  2003-04   \n",
       "3  Andaman and Nicobar Islands  NORTH AND MIDDLE ANDAMAN  Arecanut  2001-02   \n",
       "4  Andaman and Nicobar Islands            SOUTH ANDAMANS  Arecanut  2002-03   \n",
       "\n",
       "       Season    Area Area Units  Production Production Units     Yield  \n",
       "0      Kharif  1254.0    Hectare      2061.0           Tonnes  1.643541  \n",
       "1  Whole Year  1258.0    Hectare      2083.0           Tonnes  1.655803  \n",
       "2  Whole Year  1261.0    Hectare      1525.0           Tonnes  1.209358  \n",
       "3      Kharif  3100.0    Hectare      5239.0           Tonnes  1.690000  \n",
       "4  Whole Year  3105.0    Hectare      5267.0           Tonnes  1.696296  "
      ]
     },
     "execution_count": 2,
     "metadata": {},
     "output_type": "execute_result"
    }
   ],
   "source": [
    "df = pd.read_csv('/kaggle/input/india-agriculture-crop-production/India Agriculture Crop Production.csv')\n",
    "df.head()"
   ]
  },
  {
   "cell_type": "code",
   "execution_count": 3,
   "id": "58f88e49",
   "metadata": {
    "execution": {
     "iopub.execute_input": "2023-04-07T11:54:21.446376Z",
     "iopub.status.busy": "2023-04-07T11:54:21.445972Z",
     "iopub.status.idle": "2023-04-07T11:54:21.589519Z",
     "shell.execute_reply": "2023-04-07T11:54:21.588126Z"
    },
    "papermill": {
     "duration": 0.158534,
     "end_time": "2023-04-07T11:54:21.592208",
     "exception": false,
     "start_time": "2023-04-07T11:54:21.433674",
     "status": "completed"
    },
    "tags": []
   },
   "outputs": [
    {
     "name": "stdout",
     "output_type": "stream",
     "text": [
      "<class 'pandas.core.frame.DataFrame'>\n",
      "RangeIndex: 345407 entries, 0 to 345406\n",
      "Data columns (total 10 columns):\n",
      " #   Column            Non-Null Count   Dtype  \n",
      "---  ------            --------------   -----  \n",
      " 0   State             345407 non-null  object \n",
      " 1   District          345407 non-null  object \n",
      " 2   Crop              345375 non-null  object \n",
      " 3   Year              345407 non-null  object \n",
      " 4   Season            345406 non-null  object \n",
      " 5   Area              345374 non-null  float64\n",
      " 6   Area Units        345407 non-null  object \n",
      " 7   Production        340414 non-null  float64\n",
      " 8   Production Units  345407 non-null  object \n",
      " 9   Yield             345374 non-null  float64\n",
      "dtypes: float64(3), object(7)\n",
      "memory usage: 26.4+ MB\n"
     ]
    }
   ],
   "source": [
    "df.info()\n"
   ]
  },
  {
   "cell_type": "code",
   "execution_count": 4,
   "id": "e91d3b16",
   "metadata": {
    "execution": {
     "iopub.execute_input": "2023-04-07T11:54:21.617154Z",
     "iopub.status.busy": "2023-04-07T11:54:21.616746Z",
     "iopub.status.idle": "2023-04-07T11:54:21.629052Z",
     "shell.execute_reply": "2023-04-07T11:54:21.628102Z"
    },
    "papermill": {
     "duration": 0.028483,
     "end_time": "2023-04-07T11:54:21.631556",
     "exception": false,
     "start_time": "2023-04-07T11:54:21.603073",
     "status": "completed"
    },
    "tags": []
   },
   "outputs": [
    {
     "data": {
      "text/plain": [
       "0         1.643541\n",
       "1         1.655803\n",
       "2         1.209358\n",
       "3         1.690000\n",
       "4         1.696296\n",
       "            ...   \n",
       "345402         NaN\n",
       "345403         NaN\n",
       "345404         NaN\n",
       "345405         NaN\n",
       "345406         NaN\n",
       "Length: 345407, dtype: float64"
      ]
     },
     "execution_count": 4,
     "metadata": {},
     "output_type": "execute_result"
    }
   ],
   "source": [
    "df['Production']/df['Area']"
   ]
  },
  {
   "cell_type": "code",
   "execution_count": 5,
   "id": "f1ef6749",
   "metadata": {
    "execution": {
     "iopub.execute_input": "2023-04-07T11:54:21.655585Z",
     "iopub.status.busy": "2023-04-07T11:54:21.655171Z",
     "iopub.status.idle": "2023-04-07T11:54:21.671246Z",
     "shell.execute_reply": "2023-04-07T11:54:21.670179Z"
    },
    "papermill": {
     "duration": 0.030994,
     "end_time": "2023-04-07T11:54:21.673588",
     "exception": false,
     "start_time": "2023-04-07T11:54:21.642594",
     "status": "completed"
    },
    "tags": []
   },
   "outputs": [
    {
     "data": {
      "text/html": [
       "<div>\n",
       "<style scoped>\n",
       "    .dataframe tbody tr th:only-of-type {\n",
       "        vertical-align: middle;\n",
       "    }\n",
       "\n",
       "    .dataframe tbody tr th {\n",
       "        vertical-align: top;\n",
       "    }\n",
       "\n",
       "    .dataframe thead th {\n",
       "        text-align: right;\n",
       "    }\n",
       "</style>\n",
       "<table border=\"1\" class=\"dataframe\">\n",
       "  <thead>\n",
       "    <tr style=\"text-align: right;\">\n",
       "      <th></th>\n",
       "      <th>State</th>\n",
       "      <th>District</th>\n",
       "      <th>Crop</th>\n",
       "      <th>Year</th>\n",
       "      <th>Season</th>\n",
       "      <th>Area</th>\n",
       "      <th>Area Units</th>\n",
       "      <th>Production</th>\n",
       "      <th>Production Units</th>\n",
       "      <th>Yield</th>\n",
       "    </tr>\n",
       "  </thead>\n",
       "  <tbody>\n",
       "    <tr>\n",
       "      <th>0</th>\n",
       "      <td>Andaman and Nicobar Islands</td>\n",
       "      <td>NICOBARS</td>\n",
       "      <td>Arecanut</td>\n",
       "      <td>2001-02</td>\n",
       "      <td>Kharif</td>\n",
       "      <td>1254.0</td>\n",
       "      <td>Hectare</td>\n",
       "      <td>2061.0</td>\n",
       "      <td>Tonnes</td>\n",
       "      <td>1.643541</td>\n",
       "    </tr>\n",
       "    <tr>\n",
       "      <th>1</th>\n",
       "      <td>Andaman and Nicobar Islands</td>\n",
       "      <td>NICOBARS</td>\n",
       "      <td>Arecanut</td>\n",
       "      <td>2002-03</td>\n",
       "      <td>Whole Year</td>\n",
       "      <td>1258.0</td>\n",
       "      <td>Hectare</td>\n",
       "      <td>2083.0</td>\n",
       "      <td>Tonnes</td>\n",
       "      <td>1.655803</td>\n",
       "    </tr>\n",
       "    <tr>\n",
       "      <th>2</th>\n",
       "      <td>Andaman and Nicobar Islands</td>\n",
       "      <td>NICOBARS</td>\n",
       "      <td>Arecanut</td>\n",
       "      <td>2003-04</td>\n",
       "      <td>Whole Year</td>\n",
       "      <td>1261.0</td>\n",
       "      <td>Hectare</td>\n",
       "      <td>1525.0</td>\n",
       "      <td>Tonnes</td>\n",
       "      <td>1.209358</td>\n",
       "    </tr>\n",
       "    <tr>\n",
       "      <th>3</th>\n",
       "      <td>Andaman and Nicobar Islands</td>\n",
       "      <td>NORTH AND MIDDLE ANDAMAN</td>\n",
       "      <td>Arecanut</td>\n",
       "      <td>2001-02</td>\n",
       "      <td>Kharif</td>\n",
       "      <td>3100.0</td>\n",
       "      <td>Hectare</td>\n",
       "      <td>5239.0</td>\n",
       "      <td>Tonnes</td>\n",
       "      <td>1.690000</td>\n",
       "    </tr>\n",
       "    <tr>\n",
       "      <th>4</th>\n",
       "      <td>Andaman and Nicobar Islands</td>\n",
       "      <td>SOUTH ANDAMANS</td>\n",
       "      <td>Arecanut</td>\n",
       "      <td>2002-03</td>\n",
       "      <td>Whole Year</td>\n",
       "      <td>3105.0</td>\n",
       "      <td>Hectare</td>\n",
       "      <td>5267.0</td>\n",
       "      <td>Tonnes</td>\n",
       "      <td>1.696296</td>\n",
       "    </tr>\n",
       "  </tbody>\n",
       "</table>\n",
       "</div>"
      ],
      "text/plain": [
       "                         State                  District      Crop     Year  \\\n",
       "0  Andaman and Nicobar Islands                  NICOBARS  Arecanut  2001-02   \n",
       "1  Andaman and Nicobar Islands                  NICOBARS  Arecanut  2002-03   \n",
       "2  Andaman and Nicobar Islands                  NICOBARS  Arecanut  2003-04   \n",
       "3  Andaman and Nicobar Islands  NORTH AND MIDDLE ANDAMAN  Arecanut  2001-02   \n",
       "4  Andaman and Nicobar Islands            SOUTH ANDAMANS  Arecanut  2002-03   \n",
       "\n",
       "       Season    Area Area Units  Production Production Units     Yield  \n",
       "0      Kharif  1254.0    Hectare      2061.0           Tonnes  1.643541  \n",
       "1  Whole Year  1258.0    Hectare      2083.0           Tonnes  1.655803  \n",
       "2  Whole Year  1261.0    Hectare      1525.0           Tonnes  1.209358  \n",
       "3      Kharif  3100.0    Hectare      5239.0           Tonnes  1.690000  \n",
       "4  Whole Year  3105.0    Hectare      5267.0           Tonnes  1.696296  "
      ]
     },
     "execution_count": 5,
     "metadata": {},
     "output_type": "execute_result"
    }
   ],
   "source": [
    "df.head()"
   ]
  },
  {
   "cell_type": "code",
   "execution_count": 6,
   "id": "aaea6440",
   "metadata": {
    "execution": {
     "iopub.execute_input": "2023-04-07T11:54:21.698214Z",
     "iopub.status.busy": "2023-04-07T11:54:21.697301Z",
     "iopub.status.idle": "2023-04-07T11:54:21.733969Z",
     "shell.execute_reply": "2023-04-07T11:54:21.732345Z"
    },
    "papermill": {
     "duration": 0.05219,
     "end_time": "2023-04-07T11:54:21.736981",
     "exception": false,
     "start_time": "2023-04-07T11:54:21.684791",
     "status": "completed"
    },
    "tags": []
   },
   "outputs": [
    {
     "data": {
      "text/plain": [
       "array(['Andaman and Nicobar Islands', 'Andhra Pradesh',\n",
       "       'Arunachal Pradesh', 'Assam', 'Bihar', 'Chandigarh',\n",
       "       'Chhattisgarh', 'Dadra and Nagar Haveli', 'Daman and Diu', 'Delhi',\n",
       "       'Goa', 'Gujarat', 'Haryana', 'Himachal Pradesh',\n",
       "       'Jammu and Kashmir', 'Jharkhand', 'Karnataka', 'Kerala',\n",
       "       'Madhya Pradesh', 'Maharashtra', 'Manipur', 'Meghalaya', 'Mizoram',\n",
       "       'Nagaland', 'Odisha', 'Puducherry', 'Punjab', 'Rajasthan',\n",
       "       'Sikkim', 'Tamil Nadu', 'Tripura', 'Uttar Pradesh', 'Uttarakhand',\n",
       "       'West Bengal', 'Telangana', 'Laddakh'], dtype=object)"
      ]
     },
     "execution_count": 6,
     "metadata": {},
     "output_type": "execute_result"
    }
   ],
   "source": [
    "df['State'].unique()"
   ]
  },
  {
   "cell_type": "code",
   "execution_count": 7,
   "id": "8e863cd8",
   "metadata": {
    "execution": {
     "iopub.execute_input": "2023-04-07T11:54:21.763097Z",
     "iopub.status.busy": "2023-04-07T11:54:21.762178Z",
     "iopub.status.idle": "2023-04-07T11:54:21.797992Z",
     "shell.execute_reply": "2023-04-07T11:54:21.796625Z"
    },
    "papermill": {
     "duration": 0.051685,
     "end_time": "2023-04-07T11:54:21.800713",
     "exception": false,
     "start_time": "2023-04-07T11:54:21.749028",
     "status": "completed"
    },
    "tags": []
   },
   "outputs": [
    {
     "data": {
      "text/plain": [
       "array(['Arecanut', 'Banana', 'Black pepper', 'Cashewnut', 'Coconut',\n",
       "       'Dry chillies', 'Ginger', 'Other Kharif pulses', 'other oilseeds',\n",
       "       'Rice', 'Sugarcane', 'Sweet potato', 'Arhar/Tur', 'Bajra',\n",
       "       'Castor seed', 'Coriander', 'Cotton(lint)', 'Gram', 'Groundnut',\n",
       "       'Horse-gram', 'Jowar', 'Linseed', 'Maize', 'Mesta',\n",
       "       'Moong(Green Gram)', 'Niger seed', 'Onion', 'Other Rabi pulses',\n",
       "       'Potato', 'Ragi', 'Rapeseed &Mustard', 'Safflower', 'Sesamum',\n",
       "       'Small millets', 'Soyabean', 'Sunflower', 'Tapioca', 'Tobacco',\n",
       "       'Turmeric', 'Urad', 'Wheat', 'Oilseeds total', 'Jute', 'Masoor',\n",
       "       'Peas & beans (Pulses)', 'Barley', 'Garlic', 'Khesari', 'Sannhamp',\n",
       "       'Guar seed', 'Moth', 'Cardamom', 'Other Cereals', 'Cowpea(Lobia)',\n",
       "       'Dry Ginger', 'Other Summer Pulses', nan], dtype=object)"
      ]
     },
     "execution_count": 7,
     "metadata": {},
     "output_type": "execute_result"
    }
   ],
   "source": [
    "df['Crop'].unique()"
   ]
  },
  {
   "cell_type": "code",
   "execution_count": 8,
   "id": "4a83ea0e",
   "metadata": {
    "execution": {
     "iopub.execute_input": "2023-04-07T11:54:21.827122Z",
     "iopub.status.busy": "2023-04-07T11:54:21.826312Z",
     "iopub.status.idle": "2023-04-07T11:54:21.885804Z",
     "shell.execute_reply": "2023-04-07T11:54:21.884501Z"
    },
    "papermill": {
     "duration": 0.075571,
     "end_time": "2023-04-07T11:54:21.888366",
     "exception": false,
     "start_time": "2023-04-07T11:54:21.812795",
     "status": "completed"
    },
    "tags": []
   },
   "outputs": [
    {
     "name": "stdout",
     "output_type": "stream",
     "text": [
      "1997-98\n",
      "2020-21\n"
     ]
    }
   ],
   "source": [
    "print(df['Year'].min())\n",
    "print(df['Year'].max())\n"
   ]
  },
  {
   "cell_type": "code",
   "execution_count": 9,
   "id": "62fbbc85",
   "metadata": {
    "execution": {
     "iopub.execute_input": "2023-04-07T11:54:21.914502Z",
     "iopub.status.busy": "2023-04-07T11:54:21.913737Z",
     "iopub.status.idle": "2023-04-07T11:54:21.946929Z",
     "shell.execute_reply": "2023-04-07T11:54:21.945895Z"
    },
    "papermill": {
     "duration": 0.048962,
     "end_time": "2023-04-07T11:54:21.949376",
     "exception": false,
     "start_time": "2023-04-07T11:54:21.900414",
     "status": "completed"
    },
    "tags": []
   },
   "outputs": [
    {
     "data": {
      "text/plain": [
       "array(['Kharif', 'Whole Year', 'Rabi', 'Autumn', 'Summer', 'Winter', nan],\n",
       "      dtype=object)"
      ]
     },
     "execution_count": 9,
     "metadata": {},
     "output_type": "execute_result"
    }
   ],
   "source": [
    "df['Season'].unique()"
   ]
  },
  {
   "cell_type": "code",
   "execution_count": 10,
   "id": "225a0ea1",
   "metadata": {
    "execution": {
     "iopub.execute_input": "2023-04-07T11:54:21.975094Z",
     "iopub.status.busy": "2023-04-07T11:54:21.974684Z",
     "iopub.status.idle": "2023-04-07T11:54:22.169512Z",
     "shell.execute_reply": "2023-04-07T11:54:22.168493Z"
    },
    "papermill": {
     "duration": 0.210616,
     "end_time": "2023-04-07T11:54:22.171966",
     "exception": false,
     "start_time": "2023-04-07T11:54:21.961350",
     "status": "completed"
    },
    "tags": []
   },
   "outputs": [
    {
     "data": {
      "text/plain": [
       "Season\n",
       "Autumn          6967\n",
       "Kharif        136165\n",
       "Rabi           99805\n",
       "Summer         21974\n",
       "Whole Year     67265\n",
       "Winter          8238\n",
       "Name: Production, dtype: int64"
      ]
     },
     "execution_count": 10,
     "metadata": {},
     "output_type": "execute_result"
    }
   ],
   "source": [
    "df.groupby('Season').count()['Production']\n",
    "# Kharif -> 1\n",
    "# Non-Kharif -> 0"
   ]
  },
  {
   "cell_type": "code",
   "execution_count": 11,
   "id": "b9bcee28",
   "metadata": {
    "execution": {
     "iopub.execute_input": "2023-04-07T11:54:22.197356Z",
     "iopub.status.busy": "2023-04-07T11:54:22.196958Z",
     "iopub.status.idle": "2023-04-07T11:54:22.386628Z",
     "shell.execute_reply": "2023-04-07T11:54:22.385517Z"
    },
    "papermill": {
     "duration": 0.20545,
     "end_time": "2023-04-07T11:54:22.389224",
     "exception": false,
     "start_time": "2023-04-07T11:54:22.183774",
     "status": "completed"
    },
    "tags": []
   },
   "outputs": [
    {
     "data": {
      "text/plain": [
       "State\n",
       "Uttar Pradesh                  44635\n",
       "Madhya Pradesh                 29455\n",
       "Karnataka                      27322\n",
       "Bihar                          24686\n",
       "Rajasthan                      19743\n",
       "Assam                          18179\n",
       "Tamil Nadu                     18051\n",
       "Maharashtra                    17615\n",
       "Andhra Pradesh                 16162\n",
       "Odisha                         16101\n",
       "Chhattisgarh                   14732\n",
       "Gujarat                        13968\n",
       "West Bengal                    12580\n",
       "Haryana                         6931\n",
       "Uttarakhand                     6628\n",
       "Nagaland                        5674\n",
       "Jharkhand                       4991\n",
       "Himachal Pradesh                4974\n",
       "Telangana                       4662\n",
       "Kerala                          4642\n",
       "Arunachal Pradesh               4344\n",
       "Jammu and Kashmir               4342\n",
       "Meghalaya                       4322\n",
       "Punjab                          4098\n",
       "Manipur                         3092\n",
       "Tripura                         2557\n",
       "Mizoram                         2108\n",
       "Puducherry                      1123\n",
       "Sikkim                           876\n",
       "Andaman and Nicobar Islands      725\n",
       "Goa                              398\n",
       "Dadra and Nagar Haveli           329\n",
       "Delhi                            203\n",
       "Chandigarh                       123\n",
       "Daman and Diu                     42\n",
       "Laddakh                            1\n",
       "Name: Production, dtype: int64"
      ]
     },
     "execution_count": 11,
     "metadata": {},
     "output_type": "execute_result"
    }
   ],
   "source": [
    "df.groupby('State').count()['Production'].sort_values(ascending=False)"
   ]
  },
  {
   "cell_type": "code",
   "execution_count": 12,
   "id": "c0225e37",
   "metadata": {
    "execution": {
     "iopub.execute_input": "2023-04-07T11:54:22.415860Z",
     "iopub.status.busy": "2023-04-07T11:54:22.415409Z",
     "iopub.status.idle": "2023-04-07T11:54:22.718815Z",
     "shell.execute_reply": "2023-04-07T11:54:22.717899Z"
    },
    "papermill": {
     "duration": 0.319794,
     "end_time": "2023-04-07T11:54:22.721361",
     "exception": false,
     "start_time": "2023-04-07T11:54:22.401567",
     "status": "completed"
    },
    "tags": []
   },
   "outputs": [
    {
     "data": {
      "text/plain": [
       "(array([27493.,     0.,     0.,     0.,     0., 29906.,     0.,     0.,\n",
       "            0., 44781.]),\n",
       " array([0. , 0.2, 0.4, 0.6, 0.8, 1. , 1.2, 1.4, 1.6, 1.8, 2. ]),\n",
       " <BarContainer object of 10 artists>)"
      ]
     },
     "execution_count": 12,
     "metadata": {},
     "output_type": "execute_result"
    },
    {
     "data": {
      "image/png": "[encoded data removed]",
      "text/plain": [
       "<Figure size 640x480 with 1 Axes>"
      ]
     },
     "metadata": {},
     "output_type": "display_data"
    }
   ],
   "source": [
    "import matplotlib.pyplot as plt\n",
    "\n",
    "plt.hist(df[df['State'].isin([\n",
    "    'Uttar Pradesh',\n",
    "    'Madhya Pradesh',\n",
    "    'Karnataka'\n",
    "])]['State'])"
   ]
  },
  {
   "cell_type": "code",
   "execution_count": 13,
   "id": "e5de133f",
   "metadata": {
    "execution": {
     "iopub.execute_input": "2023-04-07T11:54:22.749030Z",
     "iopub.status.busy": "2023-04-07T11:54:22.747837Z",
     "iopub.status.idle": "2023-04-07T11:54:22.830356Z",
     "shell.execute_reply": "2023-04-07T11:54:22.829116Z"
    },
    "papermill": {
     "duration": 0.099004,
     "end_time": "2023-04-07T11:54:22.832919",
     "exception": false,
     "start_time": "2023-04-07T11:54:22.733915",
     "status": "completed"
    },
    "tags": []
   },
   "outputs": [
    {
     "data": {
      "text/plain": [
       "Crop\n",
       "Coconut                  1.075077e+08\n",
       "Sugarcane                6.687482e+05\n",
       "Wheat                    1.789251e+05\n",
       "Jute                     1.254349e+05\n",
       "Rice                     1.036679e+05\n",
       "Oilseeds total           8.225798e+04\n",
       "Cotton(lint)             7.659196e+04\n",
       "Potato                   5.893519e+04\n",
       "Tapioca                  5.782603e+04\n",
       "Banana                   5.171814e+04\n",
       "Soyabean                 4.276125e+04\n",
       "Bajra                    2.592582e+04\n",
       "Maize                    2.184029e+04\n",
       "Arecanut                 1.827877e+04\n",
       "Gram                     1.551369e+04\n",
       "Jowar                    1.541581e+04\n",
       "Guar seed                1.531635e+04\n",
       "Rapeseed &Mustard        1.372251e+04\n",
       "Groundnut                1.309085e+04\n",
       "Onion                    1.255474e+04\n",
       "other oilseeds           9.931330e+03\n",
       "Ragi                     7.729901e+03\n",
       "Castor seed              6.216491e+03\n",
       "Barley                   6.038105e+03\n",
       "Mesta                    5.931729e+03\n",
       "Arhar/Tur                5.686034e+03\n",
       "Moth                     5.178432e+03\n",
       "Garlic                   4.585208e+03\n",
       "Tobacco                  4.305722e+03\n",
       "Khesari                  4.059015e+03\n",
       "Ginger                   3.907775e+03\n",
       "Masoor                   3.242173e+03\n",
       "Dry chillies             2.984745e+03\n",
       "Turmeric                 2.650925e+03\n",
       "Urad                     2.633119e+03\n",
       "Cashewnut                2.462663e+03\n",
       "Moong(Green Gram)        2.146849e+03\n",
       "Sunflower                2.061610e+03\n",
       "Peas & beans (Pulses)    2.061571e+03\n",
       "Small millets            1.977244e+03\n",
       "Safflower                1.877123e+03\n",
       "Sweet potato             1.865907e+03\n",
       "Dry Ginger               1.647777e+03\n",
       "Black pepper             1.530880e+03\n",
       "Coriander                1.484840e+03\n",
       "Other Rabi pulses        1.409675e+03\n",
       "Other Cereals            1.257135e+03\n",
       "Sesamum                  1.235262e+03\n",
       "Other Kharif pulses      1.097220e+03\n",
       "Horse-gram               9.967429e+02\n",
       "Niger seed               6.038750e+02\n",
       "Linseed                  5.693187e+02\n",
       "Cardamom                 5.289818e+02\n",
       "Cowpea(Lobia)            4.393430e+02\n",
       "Sannhamp                 1.583349e+02\n",
       "Other Summer Pulses      1.271712e+02\n",
       "Name: Production, dtype: float64"
      ]
     },
     "execution_count": 13,
     "metadata": {},
     "output_type": "execute_result"
    }
   ],
   "source": [
    "df.groupby('Crop').mean()['Production'].sort_values(ascending=False)"
   ]
  },
  {
   "cell_type": "code",
   "execution_count": 14,
   "id": "f1b283d9",
   "metadata": {
    "execution": {
     "iopub.execute_input": "2023-04-07T11:54:22.860121Z",
     "iopub.status.busy": "2023-04-07T11:54:22.859699Z",
     "iopub.status.idle": "2023-04-07T11:54:22.867203Z",
     "shell.execute_reply": "2023-04-07T11:54:22.866112Z"
    },
    "papermill": {
     "duration": 0.023908,
     "end_time": "2023-04-07T11:54:22.869452",
     "exception": false,
     "start_time": "2023-04-07T11:54:22.845544",
     "status": "completed"
    },
    "tags": []
   },
   "outputs": [
    {
     "data": {
      "text/plain": [
       "Index(['State', 'District', 'Crop', 'Year', 'Season', 'Area', 'Area Units',\n",
       "       'Production', 'Production Units', 'Yield'],\n",
       "      dtype='object')"
      ]
     },
     "execution_count": 14,
     "metadata": {},
     "output_type": "execute_result"
    }
   ],
   "source": [
    "df.columns"
   ]
  },
  {
   "cell_type": "code",
   "execution_count": null,
   "id": "6e1a21c4",
   "metadata": {
    "papermill": {
     "duration": 0.012574,
     "end_time": "2023-04-07T11:54:22.895976",
     "exception": false,
     "start_time": "2023-04-07T11:54:22.883402",
     "status": "completed"
    },
    "tags": []
   },
   "outputs": [],
   "source": []
  },
  {
   "cell_type": "code",
   "execution_count": 15,
   "id": "a639a212",
   "metadata": {
    "execution": {
     "iopub.execute_input": "2023-04-07T11:54:22.923609Z",
     "iopub.status.busy": "2023-04-07T11:54:22.923181Z",
     "iopub.status.idle": "2023-04-07T11:54:26.617771Z",
     "shell.execute_reply": "2023-04-07T11:54:26.616491Z"
    },
    "papermill": {
     "duration": 3.711647,
     "end_time": "2023-04-07T11:54:26.620846",
     "exception": false,
     "start_time": "2023-04-07T11:54:22.909199",
     "status": "completed"
    },
    "tags": []
   },
   "outputs": [],
   "source": [
    "df_updated = df.replace(to_replace ='-[0-9][0-9]', value = '', regex = True)"
   ]
  },
  {
   "cell_type": "code",
   "execution_count": 16,
   "id": "0248a642",
   "metadata": {
    "execution": {
     "iopub.execute_input": "2023-04-07T11:54:26.648908Z",
     "iopub.status.busy": "2023-04-07T11:54:26.648428Z",
     "iopub.status.idle": "2023-04-07T11:54:26.667770Z",
     "shell.execute_reply": "2023-04-07T11:54:26.666475Z"
    },
    "papermill": {
     "duration": 0.036234,
     "end_time": "2023-04-07T11:54:26.670306",
     "exception": false,
     "start_time": "2023-04-07T11:54:26.634072",
     "status": "completed"
    },
    "tags": []
   },
   "outputs": [
    {
     "data": {
      "text/html": [
       "<div>\n",
       "<style scoped>\n",
       "    .dataframe tbody tr th:only-of-type {\n",
       "        vertical-align: middle;\n",
       "    }\n",
       "\n",
       "    .dataframe tbody tr th {\n",
       "        vertical-align: top;\n",
       "    }\n",
       "\n",
       "    .dataframe thead th {\n",
       "        text-align: right;\n",
       "    }\n",
       "</style>\n",
       "<table border=\"1\" class=\"dataframe\">\n",
       "  <thead>\n",
       "    <tr style=\"text-align: right;\">\n",
       "      <th></th>\n",
       "      <th>State</th>\n",
       "      <th>District</th>\n",
       "      <th>Crop</th>\n",
       "      <th>Year</th>\n",
       "      <th>Season</th>\n",
       "      <th>Area</th>\n",
       "      <th>Area Units</th>\n",
       "      <th>Production</th>\n",
       "      <th>Production Units</th>\n",
       "      <th>Yield</th>\n",
       "    </tr>\n",
       "  </thead>\n",
       "  <tbody>\n",
       "    <tr>\n",
       "      <th>0</th>\n",
       "      <td>Andaman and Nicobar Islands</td>\n",
       "      <td>NICOBARS</td>\n",
       "      <td>Arecanut</td>\n",
       "      <td>2001</td>\n",
       "      <td>Kharif</td>\n",
       "      <td>1254.0</td>\n",
       "      <td>Hectare</td>\n",
       "      <td>2061.0</td>\n",
       "      <td>Tonnes</td>\n",
       "      <td>1.643541</td>\n",
       "    </tr>\n",
       "    <tr>\n",
       "      <th>1</th>\n",
       "      <td>Andaman and Nicobar Islands</td>\n",
       "      <td>NICOBARS</td>\n",
       "      <td>Arecanut</td>\n",
       "      <td>2002</td>\n",
       "      <td>Whole Year</td>\n",
       "      <td>1258.0</td>\n",
       "      <td>Hectare</td>\n",
       "      <td>2083.0</td>\n",
       "      <td>Tonnes</td>\n",
       "      <td>1.655803</td>\n",
       "    </tr>\n",
       "    <tr>\n",
       "      <th>2</th>\n",
       "      <td>Andaman and Nicobar Islands</td>\n",
       "      <td>NICOBARS</td>\n",
       "      <td>Arecanut</td>\n",
       "      <td>2003</td>\n",
       "      <td>Whole Year</td>\n",
       "      <td>1261.0</td>\n",
       "      <td>Hectare</td>\n",
       "      <td>1525.0</td>\n",
       "      <td>Tonnes</td>\n",
       "      <td>1.209358</td>\n",
       "    </tr>\n",
       "    <tr>\n",
       "      <th>3</th>\n",
       "      <td>Andaman and Nicobar Islands</td>\n",
       "      <td>NORTH AND MIDDLE ANDAMAN</td>\n",
       "      <td>Arecanut</td>\n",
       "      <td>2001</td>\n",
       "      <td>Kharif</td>\n",
       "      <td>3100.0</td>\n",
       "      <td>Hectare</td>\n",
       "      <td>5239.0</td>\n",
       "      <td>Tonnes</td>\n",
       "      <td>1.690000</td>\n",
       "    </tr>\n",
       "    <tr>\n",
       "      <th>4</th>\n",
       "      <td>Andaman and Nicobar Islands</td>\n",
       "      <td>SOUTH ANDAMANS</td>\n",
       "      <td>Arecanut</td>\n",
       "      <td>2002</td>\n",
       "      <td>Whole Year</td>\n",
       "      <td>3105.0</td>\n",
       "      <td>Hectare</td>\n",
       "      <td>5267.0</td>\n",
       "      <td>Tonnes</td>\n",
       "      <td>1.696296</td>\n",
       "    </tr>\n",
       "  </tbody>\n",
       "</table>\n",
       "</div>"
      ],
      "text/plain": [
       "                         State                  District      Crop  Year  \\\n",
       "0  Andaman and Nicobar Islands                  NICOBARS  Arecanut  2001   \n",
       "1  Andaman and Nicobar Islands                  NICOBARS  Arecanut  2002   \n",
       "2  Andaman and Nicobar Islands                  NICOBARS  Arecanut  2003   \n",
       "3  Andaman and Nicobar Islands  NORTH AND MIDDLE ANDAMAN  Arecanut  2001   \n",
       "4  Andaman and Nicobar Islands            SOUTH ANDAMANS  Arecanut  2002   \n",
       "\n",
       "       Season    Area Area Units  Production Production Units     Yield  \n",
       "0      Kharif  1254.0    Hectare      2061.0           Tonnes  1.643541  \n",
       "1  Whole Year  1258.0    Hectare      2083.0           Tonnes  1.655803  \n",
       "2  Whole Year  1261.0    Hectare      1525.0           Tonnes  1.209358  \n",
       "3      Kharif  3100.0    Hectare      5239.0           Tonnes  1.690000  \n",
       "4  Whole Year  3105.0    Hectare      5267.0           Tonnes  1.696296  "
      ]
     },
     "execution_count": 16,
     "metadata": {},
     "output_type": "execute_result"
    }
   ],
   "source": [
    "df_updated.head()"
   ]
  },
  {
   "cell_type": "code",
   "execution_count": 17,
   "id": "f32909b7",
   "metadata": {
    "execution": {
     "iopub.execute_input": "2023-04-07T11:54:26.698766Z",
     "iopub.status.busy": "2023-04-07T11:54:26.698316Z",
     "iopub.status.idle": "2023-04-07T11:54:26.731551Z",
     "shell.execute_reply": "2023-04-07T11:54:26.730144Z"
    },
    "papermill": {
     "duration": 0.050248,
     "end_time": "2023-04-07T11:54:26.734030",
     "exception": false,
     "start_time": "2023-04-07T11:54:26.683782",
     "status": "completed"
    },
    "tags": []
   },
   "outputs": [
    {
     "data": {
      "text/html": [
       "<div>\n",
       "<style scoped>\n",
       "    .dataframe tbody tr th:only-of-type {\n",
       "        vertical-align: middle;\n",
       "    }\n",
       "\n",
       "    .dataframe tbody tr th {\n",
       "        vertical-align: top;\n",
       "    }\n",
       "\n",
       "    .dataframe thead th {\n",
       "        text-align: right;\n",
       "    }\n",
       "</style>\n",
       "<table border=\"1\" class=\"dataframe\">\n",
       "  <thead>\n",
       "    <tr style=\"text-align: right;\">\n",
       "      <th></th>\n",
       "      <th>Year</th>\n",
       "      <th>Production</th>\n",
       "      <th>Season</th>\n",
       "      <th>Crop</th>\n",
       "    </tr>\n",
       "  </thead>\n",
       "  <tbody>\n",
       "    <tr>\n",
       "      <th>0</th>\n",
       "      <td>2001</td>\n",
       "      <td>2061.0</td>\n",
       "      <td>Kharif</td>\n",
       "      <td>Arecanut</td>\n",
       "    </tr>\n",
       "    <tr>\n",
       "      <th>1</th>\n",
       "      <td>2002</td>\n",
       "      <td>2083.0</td>\n",
       "      <td>Whole Year</td>\n",
       "      <td>Arecanut</td>\n",
       "    </tr>\n",
       "    <tr>\n",
       "      <th>2</th>\n",
       "      <td>2003</td>\n",
       "      <td>1525.0</td>\n",
       "      <td>Whole Year</td>\n",
       "      <td>Arecanut</td>\n",
       "    </tr>\n",
       "    <tr>\n",
       "      <th>3</th>\n",
       "      <td>2001</td>\n",
       "      <td>5239.0</td>\n",
       "      <td>Kharif</td>\n",
       "      <td>Arecanut</td>\n",
       "    </tr>\n",
       "    <tr>\n",
       "      <th>4</th>\n",
       "      <td>2002</td>\n",
       "      <td>5267.0</td>\n",
       "      <td>Whole Year</td>\n",
       "      <td>Arecanut</td>\n",
       "    </tr>\n",
       "    <tr>\n",
       "      <th>...</th>\n",
       "      <td>...</td>\n",
       "      <td>...</td>\n",
       "      <td>...</td>\n",
       "      <td>...</td>\n",
       "    </tr>\n",
       "    <tr>\n",
       "      <th>345402</th>\n",
       "      <td>2019</td>\n",
       "      <td>NaN</td>\n",
       "      <td>Rabi</td>\n",
       "      <td>NaN</td>\n",
       "    </tr>\n",
       "    <tr>\n",
       "      <th>345403</th>\n",
       "      <td>2019</td>\n",
       "      <td>NaN</td>\n",
       "      <td>Rabi</td>\n",
       "      <td>NaN</td>\n",
       "    </tr>\n",
       "    <tr>\n",
       "      <th>345404</th>\n",
       "      <td>2019</td>\n",
       "      <td>NaN</td>\n",
       "      <td>Rabi</td>\n",
       "      <td>NaN</td>\n",
       "    </tr>\n",
       "    <tr>\n",
       "      <th>345405</th>\n",
       "      <td>2019</td>\n",
       "      <td>NaN</td>\n",
       "      <td>Rabi</td>\n",
       "      <td>NaN</td>\n",
       "    </tr>\n",
       "    <tr>\n",
       "      <th>345406</th>\n",
       "      <td>2019</td>\n",
       "      <td>NaN</td>\n",
       "      <td>Rabi</td>\n",
       "      <td>NaN</td>\n",
       "    </tr>\n",
       "  </tbody>\n",
       "</table>\n",
       "<p>345407 rows × 4 columns</p>\n",
       "</div>"
      ],
      "text/plain": [
       "        Year  Production      Season      Crop\n",
       "0       2001      2061.0      Kharif  Arecanut\n",
       "1       2002      2083.0  Whole Year  Arecanut\n",
       "2       2003      1525.0  Whole Year  Arecanut\n",
       "3       2001      5239.0      Kharif  Arecanut\n",
       "4       2002      5267.0  Whole Year  Arecanut\n",
       "...      ...         ...         ...       ...\n",
       "345402  2019         NaN        Rabi       NaN\n",
       "345403  2019         NaN        Rabi       NaN\n",
       "345404  2019         NaN        Rabi       NaN\n",
       "345405  2019         NaN        Rabi       NaN\n",
       "345406  2019         NaN        Rabi       NaN\n",
       "\n",
       "[345407 rows x 4 columns]"
      ]
     },
     "execution_count": 17,
     "metadata": {},
     "output_type": "execute_result"
    }
   ],
   "source": [
    "series = df_updated[['Year', 'Production', 'Season', 'Crop']]\n",
    "series"
   ]
  },
  {
   "cell_type": "code",
   "execution_count": 18,
   "id": "0616278b",
   "metadata": {
    "execution": {
     "iopub.execute_input": "2023-04-07T11:54:26.764490Z",
     "iopub.status.busy": "2023-04-07T11:54:26.763118Z",
     "iopub.status.idle": "2023-04-07T11:54:26.772137Z",
     "shell.execute_reply": "2023-04-07T11:54:26.770925Z"
    },
    "papermill": {
     "duration": 0.02683,
     "end_time": "2023-04-07T11:54:26.774564",
     "exception": false,
     "start_time": "2023-04-07T11:54:26.747734",
     "status": "completed"
    },
    "tags": []
   },
   "outputs": [
    {
     "data": {
      "text/plain": [
       "Year           object\n",
       "Production    float64\n",
       "Season         object\n",
       "Crop           object\n",
       "dtype: object"
      ]
     },
     "execution_count": 18,
     "metadata": {},
     "output_type": "execute_result"
    }
   ],
   "source": [
    "series.dtypes"
   ]
  },
  {
   "cell_type": "code",
   "execution_count": null,
   "id": "103fcf23",
   "metadata": {
    "papermill": {
     "duration": 0.013083,
     "end_time": "2023-04-07T11:54:26.800993",
     "exception": false,
     "start_time": "2023-04-07T11:54:26.787910",
     "status": "completed"
    },
    "tags": []
   },
   "outputs": [],
   "source": []
  },
  {
   "cell_type": "code",
   "execution_count": 19,
   "id": "cc3f8724",
   "metadata": {
    "execution": {
     "iopub.execute_input": "2023-04-07T11:54:26.829781Z",
     "iopub.status.busy": "2023-04-07T11:54:26.829340Z",
     "iopub.status.idle": "2023-04-07T11:54:26.927903Z",
     "shell.execute_reply": "2023-04-07T11:54:26.926665Z"
    },
    "papermill": {
     "duration": 0.11599,
     "end_time": "2023-04-07T11:54:26.930474",
     "exception": false,
     "start_time": "2023-04-07T11:54:26.814484",
     "status": "completed"
    },
    "tags": []
   },
   "outputs": [
    {
     "data": {
      "text/html": [
       "<div>\n",
       "<style scoped>\n",
       "    .dataframe tbody tr th:only-of-type {\n",
       "        vertical-align: middle;\n",
       "    }\n",
       "\n",
       "    .dataframe tbody tr th {\n",
       "        vertical-align: top;\n",
       "    }\n",
       "\n",
       "    .dataframe thead th {\n",
       "        text-align: right;\n",
       "    }\n",
       "</style>\n",
       "<table border=\"1\" class=\"dataframe\">\n",
       "  <thead>\n",
       "    <tr style=\"text-align: right;\">\n",
       "      <th></th>\n",
       "      <th>Production</th>\n",
       "      <th>Season</th>\n",
       "      <th>Crop</th>\n",
       "    </tr>\n",
       "    <tr>\n",
       "      <th>Year</th>\n",
       "      <th></th>\n",
       "      <th></th>\n",
       "      <th></th>\n",
       "    </tr>\n",
       "  </thead>\n",
       "  <tbody>\n",
       "    <tr>\n",
       "      <th>1997</th>\n",
       "      <td>8549</td>\n",
       "      <td>8549</td>\n",
       "      <td>8549</td>\n",
       "    </tr>\n",
       "    <tr>\n",
       "      <th>1998</th>\n",
       "      <td>12014</td>\n",
       "      <td>12290</td>\n",
       "      <td>12290</td>\n",
       "    </tr>\n",
       "    <tr>\n",
       "      <th>1999</th>\n",
       "      <td>12939</td>\n",
       "      <td>13013</td>\n",
       "      <td>13013</td>\n",
       "    </tr>\n",
       "    <tr>\n",
       "      <th>2000</th>\n",
       "      <td>13488</td>\n",
       "      <td>13593</td>\n",
       "      <td>13593</td>\n",
       "    </tr>\n",
       "    <tr>\n",
       "      <th>2001</th>\n",
       "      <td>13239</td>\n",
       "      <td>13307</td>\n",
       "      <td>13307</td>\n",
       "    </tr>\n",
       "    <tr>\n",
       "      <th>2002</th>\n",
       "      <td>14047</td>\n",
       "      <td>14182</td>\n",
       "      <td>14182</td>\n",
       "    </tr>\n",
       "    <tr>\n",
       "      <th>2003</th>\n",
       "      <td>14514</td>\n",
       "      <td>14662</td>\n",
       "      <td>14662</td>\n",
       "    </tr>\n",
       "    <tr>\n",
       "      <th>2004</th>\n",
       "      <td>13888</td>\n",
       "      <td>14151</td>\n",
       "      <td>14151</td>\n",
       "    </tr>\n",
       "    <tr>\n",
       "      <th>2005</th>\n",
       "      <td>13775</td>\n",
       "      <td>14063</td>\n",
       "      <td>14063</td>\n",
       "    </tr>\n",
       "    <tr>\n",
       "      <th>2006</th>\n",
       "      <td>14313</td>\n",
       "      <td>14678</td>\n",
       "      <td>14678</td>\n",
       "    </tr>\n",
       "    <tr>\n",
       "      <th>2007</th>\n",
       "      <td>14411</td>\n",
       "      <td>14681</td>\n",
       "      <td>14681</td>\n",
       "    </tr>\n",
       "    <tr>\n",
       "      <th>2008</th>\n",
       "      <td>14813</td>\n",
       "      <td>15150</td>\n",
       "      <td>15150</td>\n",
       "    </tr>\n",
       "    <tr>\n",
       "      <th>2009</th>\n",
       "      <td>14949</td>\n",
       "      <td>15341</td>\n",
       "      <td>15341</td>\n",
       "    </tr>\n",
       "    <tr>\n",
       "      <th>2010</th>\n",
       "      <td>14622</td>\n",
       "      <td>14889</td>\n",
       "      <td>14889</td>\n",
       "    </tr>\n",
       "    <tr>\n",
       "      <th>2011</th>\n",
       "      <td>15828</td>\n",
       "      <td>16132</td>\n",
       "      <td>16132</td>\n",
       "    </tr>\n",
       "    <tr>\n",
       "      <th>2012</th>\n",
       "      <td>15043</td>\n",
       "      <td>15279</td>\n",
       "      <td>15279</td>\n",
       "    </tr>\n",
       "    <tr>\n",
       "      <th>2013</th>\n",
       "      <td>15962</td>\n",
       "      <td>16178</td>\n",
       "      <td>16178</td>\n",
       "    </tr>\n",
       "    <tr>\n",
       "      <th>2014</th>\n",
       "      <td>15382</td>\n",
       "      <td>15587</td>\n",
       "      <td>15587</td>\n",
       "    </tr>\n",
       "    <tr>\n",
       "      <th>2015</th>\n",
       "      <td>16222</td>\n",
       "      <td>16339</td>\n",
       "      <td>16339</td>\n",
       "    </tr>\n",
       "    <tr>\n",
       "      <th>2016</th>\n",
       "      <td>17263</td>\n",
       "      <td>17418</td>\n",
       "      <td>17418</td>\n",
       "    </tr>\n",
       "    <tr>\n",
       "      <th>2017</th>\n",
       "      <td>17787</td>\n",
       "      <td>18008</td>\n",
       "      <td>18008</td>\n",
       "    </tr>\n",
       "    <tr>\n",
       "      <th>2018</th>\n",
       "      <td>18047</td>\n",
       "      <td>18302</td>\n",
       "      <td>18301</td>\n",
       "    </tr>\n",
       "    <tr>\n",
       "      <th>2019</th>\n",
       "      <td>19000</td>\n",
       "      <td>19295</td>\n",
       "      <td>19265</td>\n",
       "    </tr>\n",
       "    <tr>\n",
       "      <th>2020</th>\n",
       "      <td>319</td>\n",
       "      <td>319</td>\n",
       "      <td>319</td>\n",
       "    </tr>\n",
       "  </tbody>\n",
       "</table>\n",
       "</div>"
      ],
      "text/plain": [
       "      Production  Season   Crop\n",
       "Year                           \n",
       "1997        8549    8549   8549\n",
       "1998       12014   12290  12290\n",
       "1999       12939   13013  13013\n",
       "2000       13488   13593  13593\n",
       "2001       13239   13307  13307\n",
       "2002       14047   14182  14182\n",
       "2003       14514   14662  14662\n",
       "2004       13888   14151  14151\n",
       "2005       13775   14063  14063\n",
       "2006       14313   14678  14678\n",
       "2007       14411   14681  14681\n",
       "2008       14813   15150  15150\n",
       "2009       14949   15341  15341\n",
       "2010       14622   14889  14889\n",
       "2011       15828   16132  16132\n",
       "2012       15043   15279  15279\n",
       "2013       15962   16178  16178\n",
       "2014       15382   15587  15587\n",
       "2015       16222   16339  16339\n",
       "2016       17263   17418  17418\n",
       "2017       17787   18008  18008\n",
       "2018       18047   18302  18301\n",
       "2019       19000   19295  19265\n",
       "2020         319     319    319"
      ]
     },
     "execution_count": 19,
     "metadata": {},
     "output_type": "execute_result"
    }
   ],
   "source": [
    "series.groupby('Year').count()"
   ]
  },
  {
   "cell_type": "code",
   "execution_count": 20,
   "id": "04c56a5a",
   "metadata": {
    "execution": {
     "iopub.execute_input": "2023-04-07T11:54:26.959729Z",
     "iopub.status.busy": "2023-04-07T11:54:26.959304Z",
     "iopub.status.idle": "2023-04-07T11:54:27.042186Z",
     "shell.execute_reply": "2023-04-07T11:54:27.040338Z"
    },
    "papermill": {
     "duration": 0.102393,
     "end_time": "2023-04-07T11:54:27.046457",
     "exception": false,
     "start_time": "2023-04-07T11:54:26.944064",
     "status": "completed"
    },
    "tags": []
   },
   "outputs": [
    {
     "data": {
      "text/html": [
       "<div>\n",
       "<style scoped>\n",
       "    .dataframe tbody tr th:only-of-type {\n",
       "        vertical-align: middle;\n",
       "    }\n",
       "\n",
       "    .dataframe tbody tr th {\n",
       "        vertical-align: top;\n",
       "    }\n",
       "\n",
       "    .dataframe thead th {\n",
       "        text-align: right;\n",
       "    }\n",
       "</style>\n",
       "<table border=\"1\" class=\"dataframe\">\n",
       "  <thead>\n",
       "    <tr style=\"text-align: right;\">\n",
       "      <th></th>\n",
       "      <th>Production</th>\n",
       "      <th>Season</th>\n",
       "      <th>Crop</th>\n",
       "    </tr>\n",
       "    <tr>\n",
       "      <th>Year</th>\n",
       "      <th></th>\n",
       "      <th></th>\n",
       "      <th></th>\n",
       "    </tr>\n",
       "  </thead>\n",
       "  <tbody>\n",
       "    <tr>\n",
       "      <th>False</th>\n",
       "      <td>4993</td>\n",
       "      <td>1</td>\n",
       "      <td>32</td>\n",
       "    </tr>\n",
       "  </tbody>\n",
       "</table>\n",
       "</div>"
      ],
      "text/plain": [
       "       Production  Season  Crop\n",
       "Year                           \n",
       "False        4993       1    32"
      ]
     },
     "execution_count": 20,
     "metadata": {},
     "output_type": "execute_result"
    }
   ],
   "source": [
    "series.isna().groupby('Year').sum()"
   ]
  },
  {
   "cell_type": "code",
   "execution_count": 21,
   "id": "85ffdad2",
   "metadata": {
    "execution": {
     "iopub.execute_input": "2023-04-07T11:54:27.080098Z",
     "iopub.status.busy": "2023-04-07T11:54:27.079430Z",
     "iopub.status.idle": "2023-04-07T11:54:27.127825Z",
     "shell.execute_reply": "2023-04-07T11:54:27.126750Z"
    },
    "papermill": {
     "duration": 0.065969,
     "end_time": "2023-04-07T11:54:27.130351",
     "exception": false,
     "start_time": "2023-04-07T11:54:27.064382",
     "status": "completed"
    },
    "tags": []
   },
   "outputs": [
    {
     "data": {
      "text/plain": [
       "Year\n",
       "2011    1.939837e+10\n",
       "2015    1.849115e+10\n",
       "2019    1.842530e+10\n",
       "2018    1.806107e+10\n",
       "2014    1.788990e+10\n",
       "2013    1.720176e+10\n",
       "2009    1.670823e+10\n",
       "2016    1.652594e+10\n",
       "2008    1.627291e+10\n",
       "2017    1.602760e+10\n",
       "2006    1.581477e+10\n",
       "2005    1.504934e+10\n",
       "2007    1.457585e+10\n",
       "2004    1.392426e+10\n",
       "2012    1.318740e+10\n",
       "2002    1.251436e+10\n",
       "2003    1.243323e+10\n",
       "2010    1.208182e+10\n",
       "2000    9.666099e+09\n",
       "2001    9.423700e+09\n",
       "1999    8.566818e+09\n",
       "1998    7.887214e+09\n",
       "1997    6.105673e+09\n",
       "2020    1.017723e+07\n",
       "Name: Production, dtype: float64"
      ]
     },
     "execution_count": 21,
     "metadata": {},
     "output_type": "execute_result"
    }
   ],
   "source": [
    "plot_df = series.groupby('Year').sum()['Production'].sort_values(ascending=False)\n",
    "plot_df"
   ]
  },
  {
   "cell_type": "code",
   "execution_count": 22,
   "id": "93381d10",
   "metadata": {
    "execution": {
     "iopub.execute_input": "2023-04-07T11:54:27.160024Z",
     "iopub.status.busy": "2023-04-07T11:54:27.159629Z",
     "iopub.status.idle": "2023-04-07T11:54:27.413367Z",
     "shell.execute_reply": "2023-04-07T11:54:27.412299Z"
    },
    "papermill": {
     "duration": 0.271613,
     "end_time": "2023-04-07T11:54:27.415886",
     "exception": false,
     "start_time": "2023-04-07T11:54:27.144273",
     "status": "completed"
    },
    "tags": []
   },
   "outputs": [
    {
     "data": {
      "image/png": "[encoded data removed]",
      "text/plain": [
       "<Figure size 640x480 with 1 Axes>"
      ]
     },
     "metadata": {},
     "output_type": "display_data"
    }
   ],
   "source": [
    "# series = read_csv('daily-minimum-temperatures.csv', header=0, index_col=0, parse_dates=True, squeeze=True)\n",
    "# series['Year'] = pd.to_datetime(series['Year'])\n",
    "# series['Year'] = series['Year'].\n",
    "plot_df.plot()\n",
    "plt.show();"
   ]
  },
  {
   "cell_type": "code",
   "execution_count": 23,
   "id": "b69fd110",
   "metadata": {
    "execution": {
     "iopub.execute_input": "2023-04-07T11:54:27.446832Z",
     "iopub.status.busy": "2023-04-07T11:54:27.446380Z",
     "iopub.status.idle": "2023-04-07T11:54:27.454074Z",
     "shell.execute_reply": "2023-04-07T11:54:27.452864Z"
    },
    "papermill": {
     "duration": 0.026307,
     "end_time": "2023-04-07T11:54:27.456654",
     "exception": false,
     "start_time": "2023-04-07T11:54:27.430347",
     "status": "completed"
    },
    "tags": []
   },
   "outputs": [
    {
     "data": {
      "text/plain": [
       "Index(['State', 'District', 'Crop', 'Year', 'Season', 'Area', 'Area Units',\n",
       "       'Production', 'Production Units', 'Yield'],\n",
       "      dtype='object')"
      ]
     },
     "execution_count": 23,
     "metadata": {},
     "output_type": "execute_result"
    }
   ],
   "source": [
    "df_updated.columns"
   ]
  },
  {
   "cell_type": "code",
   "execution_count": 24,
   "id": "9bd2cc1a",
   "metadata": {
    "execution": {
     "iopub.execute_input": "2023-04-07T11:54:27.488211Z",
     "iopub.status.busy": "2023-04-07T11:54:27.487470Z",
     "iopub.status.idle": "2023-04-07T11:54:27.528957Z",
     "shell.execute_reply": "2023-04-07T11:54:27.527692Z"
    },
    "papermill": {
     "duration": 0.06048,
     "end_time": "2023-04-07T11:54:27.531650",
     "exception": false,
     "start_time": "2023-04-07T11:54:27.471170",
     "status": "completed"
    },
    "tags": []
   },
   "outputs": [
    {
     "data": {
      "text/html": [
       "<div>\n",
       "<style scoped>\n",
       "    .dataframe tbody tr th:only-of-type {\n",
       "        vertical-align: middle;\n",
       "    }\n",
       "\n",
       "    .dataframe tbody tr th {\n",
       "        vertical-align: top;\n",
       "    }\n",
       "\n",
       "    .dataframe thead th {\n",
       "        text-align: right;\n",
       "    }\n",
       "</style>\n",
       "<table border=\"1\" class=\"dataframe\">\n",
       "  <thead>\n",
       "    <tr style=\"text-align: right;\">\n",
       "      <th></th>\n",
       "      <th>Crop</th>\n",
       "      <th>Season</th>\n",
       "      <th>Area</th>\n",
       "      <th>Production</th>\n",
       "    </tr>\n",
       "  </thead>\n",
       "  <tbody>\n",
       "    <tr>\n",
       "      <th>345370</th>\n",
       "      <td>Wheat</td>\n",
       "      <td>Rabi</td>\n",
       "      <td>6310.0</td>\n",
       "      <td>15280.0</td>\n",
       "    </tr>\n",
       "    <tr>\n",
       "      <th>345371</th>\n",
       "      <td>Wheat</td>\n",
       "      <td>Rabi</td>\n",
       "      <td>1895.0</td>\n",
       "      <td>2760.0</td>\n",
       "    </tr>\n",
       "    <tr>\n",
       "      <th>345372</th>\n",
       "      <td>Wheat</td>\n",
       "      <td>Rabi</td>\n",
       "      <td>3736.0</td>\n",
       "      <td>5530.0</td>\n",
       "    </tr>\n",
       "    <tr>\n",
       "      <th>345373</th>\n",
       "      <td>Wheat</td>\n",
       "      <td>Rabi</td>\n",
       "      <td>2752.0</td>\n",
       "      <td>6928.0</td>\n",
       "    </tr>\n",
       "    <tr>\n",
       "      <th>345374</th>\n",
       "      <td>Wheat</td>\n",
       "      <td>Rabi</td>\n",
       "      <td>2979.0</td>\n",
       "      <td>7430.0</td>\n",
       "    </tr>\n",
       "  </tbody>\n",
       "</table>\n",
       "</div>"
      ],
      "text/plain": [
       "         Crop Season    Area  Production\n",
       "345370  Wheat   Rabi  6310.0     15280.0\n",
       "345371  Wheat   Rabi  1895.0      2760.0\n",
       "345372  Wheat   Rabi  3736.0      5530.0\n",
       "345373  Wheat   Rabi  2752.0      6928.0\n",
       "345374  Wheat   Rabi  2979.0      7430.0"
      ]
     },
     "execution_count": 24,
     "metadata": {},
     "output_type": "execute_result"
    }
   ],
   "source": [
    "df_dataset = df_updated[['Crop', 'Season', 'Area', 'Production']]\n",
    "df_dataset = df_dataset.dropna(subset=['Production'])\n",
    "df_dataset.tail()"
   ]
  },
  {
   "cell_type": "code",
   "execution_count": 25,
   "id": "7559c996",
   "metadata": {
    "execution": {
     "iopub.execute_input": "2023-04-07T11:54:27.563254Z",
     "iopub.status.busy": "2023-04-07T11:54:27.562862Z",
     "iopub.status.idle": "2023-04-07T11:54:27.702743Z",
     "shell.execute_reply": "2023-04-07T11:54:27.701478Z"
    },
    "papermill": {
     "duration": 0.159094,
     "end_time": "2023-04-07T11:54:27.705609",
     "exception": false,
     "start_time": "2023-04-07T11:54:27.546515",
     "status": "completed"
    },
    "tags": []
   },
   "outputs": [
    {
     "name": "stdout",
     "output_type": "stream",
     "text": [
      "          Area  Production  Crop_Arecanut  Crop_Arhar/Tur  Crop_Bajra  \\\n",
      "0       1254.0      2061.0              1               0           0   \n",
      "1       1258.0      2083.0              1               0           0   \n",
      "2       1261.0      1525.0              1               0           0   \n",
      "3       3100.0      5239.0              1               0           0   \n",
      "4       3105.0      5267.0              1               0           0   \n",
      "...        ...         ...            ...             ...         ...   \n",
      "345370  6310.0     15280.0              0               0           0   \n",
      "345371  1895.0      2760.0              0               0           0   \n",
      "345372  3736.0      5530.0              0               0           0   \n",
      "345373  2752.0      6928.0              0               0           0   \n",
      "345374  2979.0      7430.0              0               0           0   \n",
      "\n",
      "        Crop_Banana  Crop_Barley  Crop_Black pepper  Crop_Cardamom  \\\n",
      "0                 0            0                  0              0   \n",
      "1                 0            0                  0              0   \n",
      "2                 0            0                  0              0   \n",
      "3                 0            0                  0              0   \n",
      "4                 0            0                  0              0   \n",
      "...             ...          ...                ...            ...   \n",
      "345370            0            0                  0              0   \n",
      "345371            0            0                  0              0   \n",
      "345372            0            0                  0              0   \n",
      "345373            0            0                  0              0   \n",
      "345374            0            0                  0              0   \n",
      "\n",
      "        Crop_Cashewnut  ...  Crop_Turmeric  Crop_Urad  Crop_Wheat  \\\n",
      "0                    0  ...              0          0           0   \n",
      "1                    0  ...              0          0           0   \n",
      "2                    0  ...              0          0           0   \n",
      "3                    0  ...              0          0           0   \n",
      "4                    0  ...              0          0           0   \n",
      "...                ...  ...            ...        ...         ...   \n",
      "345370               0  ...              0          0           1   \n",
      "345371               0  ...              0          0           1   \n",
      "345372               0  ...              0          0           1   \n",
      "345373               0  ...              0          0           1   \n",
      "345374               0  ...              0          0           1   \n",
      "\n",
      "        Crop_other oilseeds  Season_Autumn  Season_Kharif  Season_Rabi  \\\n",
      "0                         0              0              1            0   \n",
      "1                         0              0              0            0   \n",
      "2                         0              0              0            0   \n",
      "3                         0              0              1            0   \n",
      "4                         0              0              0            0   \n",
      "...                     ...            ...            ...          ...   \n",
      "345370                    0              0              0            1   \n",
      "345371                    0              0              0            1   \n",
      "345372                    0              0              0            1   \n",
      "345373                    0              0              0            1   \n",
      "345374                    0              0              0            1   \n",
      "\n",
      "        Season_Summer  Season_Whole Year  Season_Winter  \n",
      "0                   0                  0              0  \n",
      "1                   0                  1              0  \n",
      "2                   0                  1              0  \n",
      "3                   0                  0              0  \n",
      "4                   0                  1              0  \n",
      "...               ...                ...            ...  \n",
      "345370              0                  0              0  \n",
      "345371              0                  0              0  \n",
      "345372              0                  0              0  \n",
      "345373              0                  0              0  \n",
      "345374              0                  0              0  \n",
      "\n",
      "[340414 rows x 64 columns]\n"
     ]
    }
   ],
   "source": [
    "df_dataset = pd.get_dummies(data=df_dataset, columns=['Crop', 'Season'])\n",
    "print(df_dataset)"
   ]
  },
  {
   "cell_type": "code",
   "execution_count": 26,
   "id": "5ec457f9",
   "metadata": {
    "execution": {
     "iopub.execute_input": "2023-04-07T11:54:27.737892Z",
     "iopub.status.busy": "2023-04-07T11:54:27.736763Z",
     "iopub.status.idle": "2023-04-07T11:54:27.743657Z",
     "shell.execute_reply": "2023-04-07T11:54:27.742724Z"
    },
    "papermill": {
     "duration": 0.025285,
     "end_time": "2023-04-07T11:54:27.745912",
     "exception": false,
     "start_time": "2023-04-07T11:54:27.720627",
     "status": "completed"
    },
    "tags": []
   },
   "outputs": [
    {
     "data": {
      "text/plain": [
       "Index(['Area', 'Production', 'Crop_Arecanut', 'Crop_Arhar/Tur', 'Crop_Bajra',\n",
       "       'Crop_Banana', 'Crop_Barley', 'Crop_Black pepper', 'Crop_Cardamom',\n",
       "       'Crop_Cashewnut', 'Crop_Castor seed', 'Crop_Coconut', 'Crop_Coriander',\n",
       "       'Crop_Cotton(lint)', 'Crop_Cowpea(Lobia)', 'Crop_Dry Ginger',\n",
       "       'Crop_Dry chillies', 'Crop_Garlic', 'Crop_Ginger', 'Crop_Gram',\n",
       "       'Crop_Groundnut', 'Crop_Guar seed', 'Crop_Horse-gram', 'Crop_Jowar',\n",
       "       'Crop_Jute', 'Crop_Khesari', 'Crop_Linseed', 'Crop_Maize',\n",
       "       'Crop_Masoor', 'Crop_Mesta', 'Crop_Moong(Green Gram)', 'Crop_Moth',\n",
       "       'Crop_Niger seed', 'Crop_Oilseeds total', 'Crop_Onion',\n",
       "       'Crop_Other Cereals', 'Crop_Other Kharif pulses',\n",
       "       'Crop_Other Rabi pulses', 'Crop_Other Summer Pulses',\n",
       "       'Crop_Peas & beans (Pulses)', 'Crop_Potato', 'Crop_Ragi',\n",
       "       'Crop_Rapeseed &Mustard', 'Crop_Rice', 'Crop_Safflower',\n",
       "       'Crop_Sannhamp', 'Crop_Sesamum', 'Crop_Small millets', 'Crop_Soyabean',\n",
       "       'Crop_Sugarcane', 'Crop_Sunflower', 'Crop_Sweet potato', 'Crop_Tapioca',\n",
       "       'Crop_Tobacco', 'Crop_Turmeric', 'Crop_Urad', 'Crop_Wheat',\n",
       "       'Crop_other oilseeds', 'Season_Autumn', 'Season_Kharif', 'Season_Rabi',\n",
       "       'Season_Summer', 'Season_Whole Year', 'Season_Winter'],\n",
       "      dtype='object')"
      ]
     },
     "execution_count": 26,
     "metadata": {},
     "output_type": "execute_result"
    }
   ],
   "source": [
    "df_dataset.columns"
   ]
  },
  {
   "cell_type": "code",
   "execution_count": 27,
   "id": "0f3abe09",
   "metadata": {
    "execution": {
     "iopub.execute_input": "2023-04-07T11:54:27.778200Z",
     "iopub.status.busy": "2023-04-07T11:54:27.777358Z",
     "iopub.status.idle": "2023-04-07T11:54:28.974101Z",
     "shell.execute_reply": "2023-04-07T11:54:28.972775Z"
    },
    "papermill": {
     "duration": 1.215912,
     "end_time": "2023-04-07T11:54:28.976857",
     "exception": false,
     "start_time": "2023-04-07T11:54:27.760945",
     "status": "completed"
    },
    "tags": []
   },
   "outputs": [],
   "source": [
    "from sklearn.model_selection import train_test_split\n",
    "\n",
    "X = df_dataset[['Area','Crop_Arecanut', 'Crop_Arhar/Tur', 'Crop_Bajra',\n",
    "       'Crop_Banana', 'Crop_Barley', 'Crop_Black pepper', 'Crop_Cardamom',\n",
    "       'Crop_Cashewnut', 'Crop_Castor seed', 'Crop_Coconut', 'Crop_Coriander',\n",
    "       'Crop_Cotton(lint)', 'Crop_Cowpea(Lobia)', 'Crop_Dry Ginger',\n",
    "       'Crop_Dry chillies', 'Crop_Garlic', 'Crop_Ginger', 'Crop_Gram',\n",
    "       'Crop_Groundnut', 'Crop_Guar seed', 'Crop_Horse-gram', 'Crop_Jowar',\n",
    "       'Crop_Jute', 'Crop_Khesari', 'Crop_Linseed', 'Crop_Maize',\n",
    "       'Crop_Masoor', 'Crop_Mesta', 'Crop_Moong(Green Gram)', 'Crop_Moth',\n",
    "       'Crop_Niger seed', 'Crop_Oilseeds total', 'Crop_Onion',\n",
    "       'Crop_Other Cereals', 'Crop_Other Kharif pulses',\n",
    "       'Crop_Other Rabi pulses', 'Crop_Other Summer Pulses',\n",
    "       'Crop_Peas & beans (Pulses)', 'Crop_Potato', 'Crop_Ragi',\n",
    "       'Crop_Rapeseed &Mustard', 'Crop_Rice', 'Crop_Safflower',\n",
    "       'Crop_Sannhamp', 'Crop_Sesamum', 'Crop_Small millets', 'Crop_Soyabean',\n",
    "       'Crop_Sugarcane', 'Crop_Sunflower', 'Crop_Sweet potato', 'Crop_Tapioca',\n",
    "       'Crop_Tobacco', 'Crop_Turmeric', 'Crop_Urad', 'Crop_Wheat',\n",
    "       'Crop_other oilseeds', 'Season_Autumn', 'Season_Kharif', 'Season_Rabi',\n",
    "       'Season_Summer', 'Season_Whole Year', 'Season_Winter']]\n",
    "y = df_dataset[['Production']]\n",
    "\n",
    "X_train, X_test, y_train, y_test = train_test_split(X, y, test_size=0.33, random_state=42)"
   ]
  },
  {
   "cell_type": "code",
   "execution_count": 28,
   "id": "7f4c3fb7",
   "metadata": {
    "execution": {
     "iopub.execute_input": "2023-04-07T11:54:29.008529Z",
     "iopub.status.busy": "2023-04-07T11:54:29.008126Z",
     "iopub.status.idle": "2023-04-07T11:54:29.014839Z",
     "shell.execute_reply": "2023-04-07T11:54:29.012955Z"
    },
    "papermill": {
     "duration": 0.025594,
     "end_time": "2023-04-07T11:54:29.017258",
     "exception": false,
     "start_time": "2023-04-07T11:54:28.991664",
     "status": "completed"
    },
    "tags": []
   },
   "outputs": [
    {
     "name": "stdout",
     "output_type": "stream",
     "text": [
      "(228077,)\n"
     ]
    }
   ],
   "source": [
    "print(y_train.values.ravel().shape)"
   ]
  },
  {
   "cell_type": "code",
   "execution_count": 29,
   "id": "4b8edd15",
   "metadata": {
    "execution": {
     "iopub.execute_input": "2023-04-07T11:54:29.051542Z",
     "iopub.status.busy": "2023-04-07T11:54:29.051032Z",
     "iopub.status.idle": "2023-04-07T11:54:29.057976Z",
     "shell.execute_reply": "2023-04-07T11:54:29.056335Z"
    },
    "papermill": {
     "duration": 0.027807,
     "end_time": "2023-04-07T11:54:29.060198",
     "exception": false,
     "start_time": "2023-04-07T11:54:29.032391",
     "status": "completed"
    },
    "tags": []
   },
   "outputs": [
    {
     "name": "stdout",
     "output_type": "stream",
     "text": [
      "(228077, 63)\n",
      "(112337, 63)\n",
      "(228077, 1)\n",
      "(112337, 1)\n"
     ]
    }
   ],
   "source": [
    "print(X_train.shape)\n",
    "print(X_test.shape)\n",
    "print(y_train.shape)\n",
    "print(y_test.shape)"
   ]
  },
  {
   "cell_type": "code",
   "execution_count": 30,
   "id": "0407ed23",
   "metadata": {
    "execution": {
     "iopub.execute_input": "2023-04-07T11:54:29.092366Z",
     "iopub.status.busy": "2023-04-07T11:54:29.091989Z",
     "iopub.status.idle": "2023-04-07T11:54:29.942857Z",
     "shell.execute_reply": "2023-04-07T11:54:29.941109Z"
    },
    "papermill": {
     "duration": 0.871871,
     "end_time": "2023-04-07T11:54:29.947105",
     "exception": false,
     "start_time": "2023-04-07T11:54:29.075234",
     "status": "completed"
    },
    "tags": []
   },
   "outputs": [
    {
     "data": {
      "text/plain": [
       "0.20271191304098735"
      ]
     },
     "execution_count": 30,
     "metadata": {},
     "output_type": "execute_result"
    }
   ],
   "source": [
    "from sklearn.linear_model import LinearRegression\n",
    "\n",
    "reg = LinearRegression().fit(X_train, y_train.values.ravel())\n",
    "reg.score(X_test, y_test.values.ravel())"
   ]
  },
  {
   "cell_type": "code",
   "execution_count": 31,
   "id": "18edfe50",
   "metadata": {
    "execution": {
     "iopub.execute_input": "2023-04-07T11:54:30.034099Z",
     "iopub.status.busy": "2023-04-07T11:54:30.033339Z",
     "iopub.status.idle": "2023-04-07T11:54:30.046753Z",
     "shell.execute_reply": "2023-04-07T11:54:30.045496Z"
    },
    "papermill": {
     "duration": 0.063009,
     "end_time": "2023-04-07T11:54:30.050849",
     "exception": false,
     "start_time": "2023-04-07T11:54:29.987840",
     "status": "completed"
    },
    "tags": []
   },
   "outputs": [
    {
     "data": {
      "text/plain": [
       "Index(['Area', 'Crop_Arecanut', 'Crop_Arhar/Tur', 'Crop_Bajra', 'Crop_Banana',\n",
       "       'Crop_Barley', 'Crop_Black pepper', 'Crop_Cardamom', 'Crop_Cashewnut',\n",
       "       'Crop_Castor seed', 'Crop_Coconut', 'Crop_Coriander',\n",
       "       'Crop_Cotton(lint)', 'Crop_Cowpea(Lobia)', 'Crop_Dry Ginger',\n",
       "       'Crop_Dry chillies', 'Crop_Garlic', 'Crop_Ginger', 'Crop_Gram',\n",
       "       'Crop_Groundnut', 'Crop_Guar seed', 'Crop_Horse-gram', 'Crop_Jowar',\n",
       "       'Crop_Jute', 'Crop_Khesari', 'Crop_Linseed', 'Crop_Maize',\n",
       "       'Crop_Masoor', 'Crop_Mesta', 'Crop_Moong(Green Gram)', 'Crop_Moth',\n",
       "       'Crop_Niger seed', 'Crop_Oilseeds total', 'Crop_Onion',\n",
       "       'Crop_Other Cereals', 'Crop_Other Kharif pulses',\n",
       "       'Crop_Other Rabi pulses', 'Crop_Other Summer Pulses',\n",
       "       'Crop_Peas & beans (Pulses)', 'Crop_Potato', 'Crop_Ragi',\n",
       "       'Crop_Rapeseed &Mustard', 'Crop_Rice', 'Crop_Safflower',\n",
       "       'Crop_Sannhamp', 'Crop_Sesamum', 'Crop_Small millets', 'Crop_Soyabean',\n",
       "       'Crop_Sugarcane', 'Crop_Sunflower', 'Crop_Sweet potato', 'Crop_Tapioca',\n",
       "       'Crop_Tobacco', 'Crop_Turmeric', 'Crop_Urad', 'Crop_Wheat',\n",
       "       'Crop_other oilseeds', 'Season_Autumn', 'Season_Kharif', 'Season_Rabi',\n",
       "       'Season_Summer', 'Season_Whole Year', 'Season_Winter'],\n",
       "      dtype='object')"
      ]
     },
     "execution_count": 31,
     "metadata": {},
     "output_type": "execute_result"
    }
   ],
   "source": [
    "X_test.columns"
   ]
  },
  {
   "cell_type": "code",
   "execution_count": 32,
   "id": "4ccbfd40",
   "metadata": {
    "execution": {
     "iopub.execute_input": "2023-04-07T11:54:30.101117Z",
     "iopub.status.busy": "2023-04-07T11:54:30.100273Z",
     "iopub.status.idle": "2023-04-07T11:54:30.109852Z",
     "shell.execute_reply": "2023-04-07T11:54:30.108381Z"
    },
    "papermill": {
     "duration": 0.040449,
     "end_time": "2023-04-07T11:54:30.113113",
     "exception": false,
     "start_time": "2023-04-07T11:54:30.072664",
     "status": "completed"
    },
    "tags": []
   },
   "outputs": [
    {
     "data": {
      "text/plain": [
       "array([ 2.19389880e+01, -1.84341795e+06, -1.88158263e+06, -2.28748149e+06,\n",
       "       -1.78152649e+06, -1.78606804e+06, -1.84562665e+06, -1.83273423e+06,\n",
       "       -1.86657982e+06, -1.80959744e+06,  1.07265860e+08, -1.80473736e+06,\n",
       "       -2.45148009e+06, -1.76852503e+06, -1.86261403e+06, -1.79754846e+06,\n",
       "       -1.78264757e+06, -1.75929024e+06, -2.10624529e+06, -2.00210026e+06,\n",
       "       -2.44450178e+06, -1.75377502e+06, -2.11128141e+06, -1.83779684e+06,\n",
       "       -1.86185443e+06, -1.76664570e+06, -1.96679960e+06, -1.82666977e+06,\n",
       "       -1.72894241e+06, -1.88117684e+06, -2.09887279e+06, -1.76409125e+06,\n",
       "       -4.22901799e+06, -1.79598933e+06, -1.76350528e+06, -1.76876976e+06,\n",
       "       -1.78979980e+06, -1.98800406e+06, -1.77632928e+06, -1.74465214e+06,\n",
       "       -1.88521318e+06, -1.97159503e+06, -2.68856401e+06, -1.80811820e+06,\n",
       "       -1.75225977e+06, -1.80741836e+06, -1.78522480e+06, -2.58773907e+06,\n",
       "       -1.30364344e+06, -1.85295735e+06, -1.76753823e+06, -1.75406077e+06,\n",
       "       -1.82849638e+06, -1.78321012e+06, -1.86471709e+06, -2.85830309e+06,\n",
       "       -1.79852265e+06,  2.86407254e+05, -8.21443734e+04, -6.07196254e+04,\n",
       "        1.84818986e+05, -1.70943303e+04, -3.11267911e+05])"
      ]
     },
     "execution_count": 32,
     "metadata": {},
     "output_type": "execute_result"
    }
   ],
   "source": [
    "reg.coef_"
   ]
  },
  {
   "cell_type": "code",
   "execution_count": 33,
   "id": "8cc16a6a",
   "metadata": {
    "execution": {
     "iopub.execute_input": "2023-04-07T11:54:30.156168Z",
     "iopub.status.busy": "2023-04-07T11:54:30.155768Z",
     "iopub.status.idle": "2023-04-07T11:54:30.163018Z",
     "shell.execute_reply": "2023-04-07T11:54:30.161873Z"
    },
    "papermill": {
     "duration": 0.027102,
     "end_time": "2023-04-07T11:54:30.165379",
     "exception": false,
     "start_time": "2023-04-07T11:54:30.138277",
     "status": "completed"
    },
    "tags": []
   },
   "outputs": [
    {
     "data": {
      "text/plain": [
       "1797817.6087594172"
      ]
     },
     "execution_count": 33,
     "metadata": {},
     "output_type": "execute_result"
    }
   ],
   "source": [
    "reg.intercept_"
   ]
  },
  {
   "cell_type": "code",
   "execution_count": 34,
   "id": "ef6eecd9",
   "metadata": {
    "execution": {
     "iopub.execute_input": "2023-04-07T11:54:30.199969Z",
     "iopub.status.busy": "2023-04-07T11:54:30.199556Z",
     "iopub.status.idle": "2023-04-07T11:54:30.205725Z",
     "shell.execute_reply": "2023-04-07T11:54:30.204647Z"
    },
    "papermill": {
     "duration": 0.027386,
     "end_time": "2023-04-07T11:54:30.208333",
     "exception": false,
     "start_time": "2023-04-07T11:54:30.180947",
     "status": "completed"
    },
    "tags": []
   },
   "outputs": [
    {
     "name": "stdout",
     "output_type": "stream",
     "text": [
      "4\n",
      "1.3862943611198906\n",
      "3\n"
     ]
    }
   ],
   "source": [
    "import math\n",
    "\n",
    "\n",
    "n = 4\n",
    "print(n)\n",
    "print(math.log(n))\n",
    "print(round(2.6))"
   ]
  },
  {
   "cell_type": "code",
   "execution_count": 35,
   "id": "2f3a1769",
   "metadata": {
    "execution": {
     "iopub.execute_input": "2023-04-07T11:54:30.242038Z",
     "iopub.status.busy": "2023-04-07T11:54:30.241634Z",
     "iopub.status.idle": "2023-04-07T11:54:30.250598Z",
     "shell.execute_reply": "2023-04-07T11:54:30.249280Z"
    },
    "papermill": {
     "duration": 0.02849,
     "end_time": "2023-04-07T11:54:30.252728",
     "exception": false,
     "start_time": "2023-04-07T11:54:30.224238",
     "status": "completed"
    },
    "tags": []
   },
   "outputs": [
    {
     "name": "stdout",
     "output_type": "stream",
     "text": [
      "First line.\tSecond line.\n",
      "P\n",
      "y\n",
      "t\n",
      "h\n",
      "o\n",
      "n\n"
     ]
    },
    {
     "data": {
      "text/plain": [
       "3"
      ]
     },
     "execution_count": 35,
     "metadata": {},
     "output_type": "execute_result"
    }
   ],
   "source": [
    "s = 'First line.\\tSecond line.'\n",
    "print(s)\n",
    "\n",
    "word = 'Python'\n",
    "for character in word:\n",
    "    print(character)\n",
    "    \n",
    "\n",
    "good_features = [\n",
    "    'feature1',\n",
    "    'feature2',\n",
    "    'featuren'\n",
    "]\n",
    "len(good_features)"
   ]
  },
  {
   "cell_type": "code",
   "execution_count": 36,
   "id": "d64874ec",
   "metadata": {
    "execution": {
     "iopub.execute_input": "2023-04-07T11:54:30.286658Z",
     "iopub.status.busy": "2023-04-07T11:54:30.285544Z",
     "iopub.status.idle": "2023-04-07T11:54:30.294524Z",
     "shell.execute_reply": "2023-04-07T11:54:30.293658Z"
    },
    "papermill": {
     "duration": 0.02834,
     "end_time": "2023-04-07T11:54:30.296743",
     "exception": false,
     "start_time": "2023-04-07T11:54:30.268403",
     "status": "completed"
    },
    "tags": []
   },
   "outputs": [
    {
     "name": "stdout",
     "output_type": "stream",
     "text": [
      "ie\n"
     ]
    },
    {
     "data": {
      "text/plain": [
       "(1, 2, 3)"
      ]
     },
     "execution_count": 36,
     "metadata": {},
     "output_type": "execute_result"
    }
   ],
   "source": [
    "# import str\n",
    "\n",
    "s = 'IE'\n",
    "print(str.lower(s))\n",
    "'1|2|3'.split('|')\n",
    "\n",
    "\n",
    "\n",
    "# lists\n",
    "[1, 2, 3, 1, 1, 1]\n",
    "# tuples\n",
    "()\n",
    "# sets\n",
    "(1, 2, 3)"
   ]
  },
  {
   "cell_type": "code",
   "execution_count": 37,
   "id": "860b2355",
   "metadata": {
    "execution": {
     "iopub.execute_input": "2023-04-07T11:54:30.330663Z",
     "iopub.status.busy": "2023-04-07T11:54:30.330179Z",
     "iopub.status.idle": "2023-04-07T11:54:30.337598Z",
     "shell.execute_reply": "2023-04-07T11:54:30.336483Z"
    },
    "papermill": {
     "duration": 0.027494,
     "end_time": "2023-04-07T11:54:30.340437",
     "exception": false,
     "start_time": "2023-04-07T11:54:30.312943",
     "status": "completed"
    },
    "tags": []
   },
   "outputs": [
    {
     "name": "stdout",
     "output_type": "stream",
     "text": [
      "\n",
      "Tuple using List: \n",
      "(1, 2, 3, 3, 4, 5, 6)\n",
      "1\n",
      "1\n",
      "2\n",
      "{2, 3, 4, 5, 6}\n"
     ]
    }
   ],
   "source": [
    "list1 = [1, 2, 3, 3, 4, 5, 6]\n",
    "print(\"\\nTuple using List: \")\n",
    "print(tuple(list1))\n",
    "\n",
    "\n",
    "my_tuple = tuple(list1)\n",
    "print(my_tuple[0])\n",
    "# my_tuple[0] = 2\n",
    "\n",
    "my_list = list1\n",
    "print(my_list[0])\n",
    "my_list[0] = 2\n",
    "print(my_list[0])\n",
    "\n",
    "my_set = set(list1)\n",
    "print(my_set)"
   ]
  },
  {
   "cell_type": "code",
   "execution_count": 38,
   "id": "1063afeb",
   "metadata": {
    "execution": {
     "iopub.execute_input": "2023-04-07T11:54:30.374617Z",
     "iopub.status.busy": "2023-04-07T11:54:30.373725Z",
     "iopub.status.idle": "2023-04-07T11:54:30.379584Z",
     "shell.execute_reply": "2023-04-07T11:54:30.378201Z"
    },
    "papermill": {
     "duration": 0.025756,
     "end_time": "2023-04-07T11:54:30.382127",
     "exception": false,
     "start_time": "2023-04-07T11:54:30.356371",
     "status": "completed"
    },
    "tags": []
   },
   "outputs": [],
   "source": [
    "tel = {\n",
    "    'jack': 4098, \n",
    "    'sape': 4139,\n",
    "    1: 'jack',\n",
    "    2: 'jill'\n",
    "}\n",
    "\n",
    "# tel = dict(\n",
    "#     [\n",
    "#         ('sape', 4139), \n",
    "#         ('guido', 4127), \n",
    "#         ('jack', 4098)\n",
    "#     ]\n",
    "# )"
   ]
  },
  {
   "cell_type": "code",
   "execution_count": 39,
   "id": "7099c50b",
   "metadata": {
    "execution": {
     "iopub.execute_input": "2023-04-07T11:54:30.417670Z",
     "iopub.status.busy": "2023-04-07T11:54:30.415297Z",
     "iopub.status.idle": "2023-04-07T11:54:30.424063Z",
     "shell.execute_reply": "2023-04-07T11:54:30.422719Z"
    },
    "papermill": {
     "duration": 0.028387,
     "end_time": "2023-04-07T11:54:30.426516",
     "exception": false,
     "start_time": "2023-04-07T11:54:30.398129",
     "status": "completed"
    },
    "tags": []
   },
   "outputs": [
    {
     "name": "stdout",
     "output_type": "stream",
     "text": [
      "before the for loop\n",
      "\n",
      "in the for loop\n",
      "jack 4098\n",
      "key jack\n",
      "val 4098\n",
      "in the for loop\n",
      "sape 4139\n",
      "key sape\n",
      "val 4139\n",
      "in the for loop\n",
      "1 jack\n",
      "key 1\n",
      "val jack\n",
      "in the for loop\n",
      "2 jill\n",
      "key 2\n",
      "val jill\n",
      "\n",
      "after the for loop\n",
      "key 2\n",
      "val jill\n"
     ]
    }
   ],
   "source": [
    "cars = 'car1'\n",
    "print('before the for loop')\n",
    "print()\n",
    "\n",
    "for i, j in tel.items():\n",
    "    print('in the for loop')\n",
    "    print(i, j)\n",
    "    print(\"key\", i)\n",
    "    print(\"val\", j)\n",
    "    \n",
    "print()\n",
    "print('after the for loop')\n",
    "print(\"key\", i)\n",
    "print(\"val\", j)"
   ]
  },
  {
   "cell_type": "code",
   "execution_count": 40,
   "id": "fc510491",
   "metadata": {
    "execution": {
     "iopub.execute_input": "2023-04-07T11:54:30.461884Z",
     "iopub.status.busy": "2023-04-07T11:54:30.461466Z",
     "iopub.status.idle": "2023-04-07T11:54:30.468316Z",
     "shell.execute_reply": "2023-04-07T11:54:30.467126Z"
    },
    "papermill": {
     "duration": 0.027907,
     "end_time": "2023-04-07T11:54:30.470497",
     "exception": false,
     "start_time": "2023-04-07T11:54:30.442590",
     "status": "completed"
    },
    "tags": []
   },
   "outputs": [
    {
     "name": "stdout",
     "output_type": "stream",
     "text": [
      "tic\n",
      "tac\n",
      "toe\n",
      "0 tic\n",
      "tic\n",
      "1 tac\n",
      "tac\n",
      "2 toe\n",
      "toe\n"
     ]
    }
   ],
   "source": [
    "my_list = ['tic', 'tac', 'toe']\n",
    "print(my_list[0])\n",
    "print(my_list[1])\n",
    "print(my_list[2])\n",
    "\n",
    "for i, v in enumerate(my_list):\n",
    "    print(i, v)\n",
    "    print(my_list[i])"
   ]
  },
  {
   "cell_type": "markdown",
   "id": "cfeb17eb",
   "metadata": {
    "papermill": {
     "duration": 0.015711,
     "end_time": "2023-04-07T11:54:30.502271",
     "exception": false,
     "start_time": "2023-04-07T11:54:30.486560",
     "status": "completed"
    },
    "tags": []
   },
   "source": [
    "1. Write a function that accepts an integer (n) and computes the value of n + nn + nnn. (nn means n times n.)\n",
    "\n",
    "2a. Write a function that has as input parameter \"guess\" a guessed dice value, then throws a dice, and returns the difference between the thrown value and the guessed value.\n",
    "2b. Change the above function to guess the sum of three throws instead.\n",
    "2c. Write a function dice() that takes as input parameter the number of sides of the dice and returns a random dice throw. Edit the functions from 2a and 2b to use this function instead.\n",
    "\n",
    "3. Write a function that accepts the radius of a circle as input and computes the area.\n",
    "\n",
    "4. Take or rewrite the function that returns the Euclidean distance between two points.\n",
    "\n",
    "5. Write a function that takes a first and last name as input and returns them in reverse order, with the last name in capitals."
   ]
  },
  {
   "cell_type": "code",
   "execution_count": 41,
   "id": "099b30cc",
   "metadata": {
    "execution": {
     "iopub.execute_input": "2023-04-07T11:54:30.536077Z",
     "iopub.status.busy": "2023-04-07T11:54:30.535682Z",
     "iopub.status.idle": "2023-04-07T11:54:30.543837Z",
     "shell.execute_reply": "2023-04-07T11:54:30.542484Z"
    },
    "papermill": {
     "duration": 0.028354,
     "end_time": "2023-04-07T11:54:30.546504",
     "exception": false,
     "start_time": "2023-04-07T11:54:30.518150",
     "status": "completed"
    },
    "tags": []
   },
   "outputs": [
    {
     "name": "stdout",
     "output_type": "stream",
     "text": [
      "1110\n",
      "1110\n",
      "8420\n",
      "27930\n",
      "1110\n",
      "1110\n",
      "8420\n",
      "27930\n"
     ]
    }
   ],
   "source": [
    "# 1. Write a function that accepts an integer (n) and computes the value of n + nn + nnn. (nn means n times n.)\n",
    "\n",
    "def calc_eqn_n(n=10):\n",
    "    result = n + (n * n) + (n * n * n)\n",
    "    print(result)\n",
    "    return result\n",
    "\n",
    "result1 = calc_eqn_n()\n",
    "result2 = calc_eqn_n(n=10)\n",
    "result4 = calc_eqn_n(n=20)\n",
    "result6 = calc_eqn_n(n=30)\n",
    "\n",
    "print(result1)\n",
    "print(result2)\n",
    "print(result4)\n",
    "print(result6)"
   ]
  },
  {
   "cell_type": "code",
   "execution_count": 42,
   "id": "079ba828",
   "metadata": {
    "execution": {
     "iopub.execute_input": "2023-04-07T11:54:30.580786Z",
     "iopub.status.busy": "2023-04-07T11:54:30.580348Z",
     "iopub.status.idle": "2023-04-07T11:54:30.594246Z",
     "shell.execute_reply": "2023-04-07T11:54:30.593088Z"
    },
    "papermill": {
     "duration": 0.033806,
     "end_time": "2023-04-07T11:54:30.596536",
     "exception": false,
     "start_time": "2023-04-07T11:54:30.562730",
     "status": "completed"
    },
    "tags": []
   },
   "outputs": [
    {
     "name": "stdout",
     "output_type": "stream",
     "text": [
      "guess value is : 10\n",
      "thrown value1 is : 5\n",
      "thrown value2 is : 5\n",
      "thrown value3 is : 6\n",
      "sum : 16\n"
     ]
    },
    {
     "data": {
      "text/plain": [
       "6"
      ]
     },
     "execution_count": 42,
     "metadata": {},
     "output_type": "execute_result"
    }
   ],
   "source": [
    "# 2a. Write a function that has as input parameter \"guess\" a guessed dice value, then throws a dice, \n",
    "#     and returns the difference between the thrown value and the guessed value. \n",
    "# 2b. Change the above function to guess the sum of three throws instead. \n",
    "# 2c. Write a function dice() that takes as input parameter the number of sides of the dice \n",
    "#     and returns a random dice throw. Edit the functions from 2a and 2b to use this function instead.\n",
    "import random\n",
    "\n",
    "\n",
    "def calc_diff_thrown_guessed(guess_value):\n",
    "    print('guess value is :', guess_value)\n",
    "    thrown_value1 = random.randint(1,6)\n",
    "    print('thrown value1 is :', thrown_value1)\n",
    "    thrown_value2 = random.randint(1,6)\n",
    "    print('thrown value2 is :', thrown_value2)\n",
    "    thrown_value3 = random.randint(1,6)\n",
    "    print('thrown value3 is :', thrown_value3)\n",
    "    sum_three_throws = thrown_value1 + thrown_value2 + thrown_value3\n",
    "    print('sum :', sum_three_throws)\n",
    "    result = sum_three_throws - guess_value\n",
    "    return result\n",
    "\n",
    "calc_diff_thrown_guessed(guess_value=10)"
   ]
  },
  {
   "cell_type": "code",
   "execution_count": 43,
   "id": "becd4442",
   "metadata": {
    "execution": {
     "iopub.execute_input": "2023-04-07T11:54:30.631379Z",
     "iopub.status.busy": "2023-04-07T11:54:30.630876Z",
     "iopub.status.idle": "2023-04-07T11:54:30.639160Z",
     "shell.execute_reply": "2023-04-07T11:54:30.637986Z"
    },
    "papermill": {
     "duration": 0.028661,
     "end_time": "2023-04-07T11:54:30.641583",
     "exception": false,
     "start_time": "2023-04-07T11:54:30.612922",
     "status": "completed"
    },
    "tags": []
   },
   "outputs": [
    {
     "data": {
      "text/plain": [
       "'KARLE yash'"
      ]
     },
     "execution_count": 43,
     "metadata": {},
     "output_type": "execute_result"
    }
   ],
   "source": [
    "# 5. Write a function that takes a first and last name as input and returns them in reverse order, with the last name in capitals.\n",
    "\n",
    "def reverse_capital(first_name, last_name):\n",
    "    last_name_cap = str.upper(last_name)\n",
    "    reversed_str = last_name_cap + ' ' + first_name\n",
    "    return reversed_str\n",
    "\n",
    "reverse_capital('yash', 'karle')\n",
    "# reverse_capital('jack', 'jill')\n",
    "# reverse_capital('tom', 'john')"
   ]
  },
  {
   "cell_type": "code",
   "execution_count": null,
   "id": "51d937a4",
   "metadata": {
    "papermill": {
     "duration": 0.016074,
     "end_time": "2023-04-07T11:54:30.673856",
     "exception": false,
     "start_time": "2023-04-07T11:54:30.657782",
     "status": "completed"
    },
    "tags": []
   },
   "outputs": [],
   "source": []
  }
 ],
 "metadata": {
  "kernelspec": {
   "display_name": "Python 3",
   "language": "python",
   "name": "python3"
  },
  "language_info": {
   "codemirror_mode": {
    "name": "ipython",
    "version": 3
   },
   "file_extension": ".py",
   "mimetype": "text/x-python",
   "name": "python",
   "nbconvert_exporter": "python",
   "pygments_lexer": "ipython3",
   "version": "3.7.12"
  },
  "papermill": {
   "default_parameters": {},
   "duration": 21.255295,
   "end_time": "2023-04-07T11:54:31.413622",
   "environment_variables": {},
   "exception": null,
   "input_path": "__notebook__.ipynb",
   "output_path": "__notebook__.ipynb",
   "parameters": {},
   "start_time": "2023-04-07T11:54:10.158327",
   "version": "2.4.0"
  }
 },
 "nbformat": 4,
 "nbformat_minor": 5
}
