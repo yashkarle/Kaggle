{
 "cells": [
  {
   "cell_type": "code",
   "execution_count": 1,
   "id": "cec227a6",
   "metadata": {
    "_cell_guid": "b1076dfc-b9ad-4769-8c92-a6c4dae69d19",
    "_uuid": "8f2839f25d086af736a60e9eeb907d3b93b6e0e5",
    "execution": {
     "iopub.execute_input": "2023-03-20T19:21:42.244448Z",
     "iopub.status.busy": "2023-03-20T19:21:42.244072Z",
     "iopub.status.idle": "2023-03-20T19:21:42.260313Z",
     "shell.execute_reply": "2023-03-20T19:21:42.258697Z"
    },
    "papermill": {
     "duration": 0.026476,
     "end_time": "2023-03-20T19:21:42.263733",
     "exception": false,
     "start_time": "2023-03-20T19:21:42.237257",
     "status": "completed"
    },
    "tags": []
   },
   "outputs": [
    {
     "name": "stdout",
     "output_type": "stream",
     "text": [
      "/kaggle/input/india-agriculture-crop-production/India Agriculture Crop Production.csv\n"
     ]
    }
   ],
   "source": [
    "# This Python 3 environment comes with many helpful analytics libraries installed\n",
    "# It is defined by the kaggle/python Docker image: https://github.com/kaggle/docker-python\n",
    "# For example, here's several helpful packages to load\n",
    "\n",
    "import numpy as np # linear algebra\n",
    "import pandas as pd # data processing, CSV file I/O (e.g. pd.read_csv)\n",
    "\n",
    "# Input data files are available in the read-only \"../input/\" directory\n",
    "# For example, running this (by clicking run or pressing Shift+Enter) will list all files under the input directory\n",
    "\n",
    "import os\n",
    "for dirname, _, filenames in os.walk('/kaggle/input'):\n",
    "    for filename in filenames:\n",
    "        print(os.path.join(dirname, filename))\n",
    "\n",
    "# You can write up to 20GB to the current directory (/kaggle/working/) that gets preserved as output when you create a version using \"Save & Run All\" \n",
    "# You can also write temporary files to /kaggle/temp/, but they won't be saved outside of the current session"
   ]
  },
  {
   "cell_type": "code",
   "execution_count": 2,
   "id": "d2e5fa35",
   "metadata": {
    "execution": {
     "iopub.execute_input": "2023-03-20T19:21:42.275775Z",
     "iopub.status.busy": "2023-03-20T19:21:42.274464Z",
     "iopub.status.idle": "2023-03-20T19:21:43.028894Z",
     "shell.execute_reply": "2023-03-20T19:21:43.027808Z"
    },
    "papermill": {
     "duration": 0.762919,
     "end_time": "2023-03-20T19:21:43.031481",
     "exception": false,
     "start_time": "2023-03-20T19:21:42.268562",
     "status": "completed"
    },
    "tags": []
   },
   "outputs": [
    {
     "data": {
      "text/html": [
       "<div>\n",
       "<style scoped>\n",
       "    .dataframe tbody tr th:only-of-type {\n",
       "        vertical-align: middle;\n",
       "    }\n",
       "\n",
       "    .dataframe tbody tr th {\n",
       "        vertical-align: top;\n",
       "    }\n",
       "\n",
       "    .dataframe thead th {\n",
       "        text-align: right;\n",
       "    }\n",
       "</style>\n",
       "<table border=\"1\" class=\"dataframe\">\n",
       "  <thead>\n",
       "    <tr style=\"text-align: right;\">\n",
       "      <th></th>\n",
       "      <th>State</th>\n",
       "      <th>District</th>\n",
       "      <th>Crop</th>\n",
       "      <th>Year</th>\n",
       "      <th>Season</th>\n",
       "      <th>Area</th>\n",
       "      <th>Area Units</th>\n",
       "      <th>Production</th>\n",
       "      <th>Production Units</th>\n",
       "      <th>Yield</th>\n",
       "    </tr>\n",
       "  </thead>\n",
       "  <tbody>\n",
       "    <tr>\n",
       "      <th>0</th>\n",
       "      <td>Andaman and Nicobar Islands</td>\n",
       "      <td>NICOBARS</td>\n",
       "      <td>Arecanut</td>\n",
       "      <td>2001-02</td>\n",
       "      <td>Kharif</td>\n",
       "      <td>1254.0</td>\n",
       "      <td>Hectare</td>\n",
       "      <td>2061.0</td>\n",
       "      <td>Tonnes</td>\n",
       "      <td>1.643541</td>\n",
       "    </tr>\n",
       "    <tr>\n",
       "      <th>1</th>\n",
       "      <td>Andaman and Nicobar Islands</td>\n",
       "      <td>NICOBARS</td>\n",
       "      <td>Arecanut</td>\n",
       "      <td>2002-03</td>\n",
       "      <td>Whole Year</td>\n",
       "      <td>1258.0</td>\n",
       "      <td>Hectare</td>\n",
       "      <td>2083.0</td>\n",
       "      <td>Tonnes</td>\n",
       "      <td>1.655803</td>\n",
       "    </tr>\n",
       "    <tr>\n",
       "      <th>2</th>\n",
       "      <td>Andaman and Nicobar Islands</td>\n",
       "      <td>NICOBARS</td>\n",
       "      <td>Arecanut</td>\n",
       "      <td>2003-04</td>\n",
       "      <td>Whole Year</td>\n",
       "      <td>1261.0</td>\n",
       "      <td>Hectare</td>\n",
       "      <td>1525.0</td>\n",
       "      <td>Tonnes</td>\n",
       "      <td>1.209358</td>\n",
       "    </tr>\n",
       "    <tr>\n",
       "      <th>3</th>\n",
       "      <td>Andaman and Nicobar Islands</td>\n",
       "      <td>NORTH AND MIDDLE ANDAMAN</td>\n",
       "      <td>Arecanut</td>\n",
       "      <td>2001-02</td>\n",
       "      <td>Kharif</td>\n",
       "      <td>3100.0</td>\n",
       "      <td>Hectare</td>\n",
       "      <td>5239.0</td>\n",
       "      <td>Tonnes</td>\n",
       "      <td>1.690000</td>\n",
       "    </tr>\n",
       "    <tr>\n",
       "      <th>4</th>\n",
       "      <td>Andaman and Nicobar Islands</td>\n",
       "      <td>SOUTH ANDAMANS</td>\n",
       "      <td>Arecanut</td>\n",
       "      <td>2002-03</td>\n",
       "      <td>Whole Year</td>\n",
       "      <td>3105.0</td>\n",
       "      <td>Hectare</td>\n",
       "      <td>5267.0</td>\n",
       "      <td>Tonnes</td>\n",
       "      <td>1.696296</td>\n",
       "    </tr>\n",
       "  </tbody>\n",
       "</table>\n",
       "</div>"
      ],
      "text/plain": [
       "                         State                  District      Crop     Year  \\\n",
       "0  Andaman and Nicobar Islands                  NICOBARS  Arecanut  2001-02   \n",
       "1  Andaman and Nicobar Islands                  NICOBARS  Arecanut  2002-03   \n",
       "2  Andaman and Nicobar Islands                  NICOBARS  Arecanut  2003-04   \n",
       "3  Andaman and Nicobar Islands  NORTH AND MIDDLE ANDAMAN  Arecanut  2001-02   \n",
       "4  Andaman and Nicobar Islands            SOUTH ANDAMANS  Arecanut  2002-03   \n",
       "\n",
       "       Season    Area Area Units  Production Production Units     Yield  \n",
       "0      Kharif  1254.0    Hectare      2061.0           Tonnes  1.643541  \n",
       "1  Whole Year  1258.0    Hectare      2083.0           Tonnes  1.655803  \n",
       "2  Whole Year  1261.0    Hectare      1525.0           Tonnes  1.209358  \n",
       "3      Kharif  3100.0    Hectare      5239.0           Tonnes  1.690000  \n",
       "4  Whole Year  3105.0    Hectare      5267.0           Tonnes  1.696296  "
      ]
     },
     "execution_count": 2,
     "metadata": {},
     "output_type": "execute_result"
    }
   ],
   "source": [
    "df = pd.read_csv('/kaggle/input/india-agriculture-crop-production/India Agriculture Crop Production.csv')\n",
    "df.head()"
   ]
  },
  {
   "cell_type": "code",
   "execution_count": 3,
   "id": "8a7dece2",
   "metadata": {
    "execution": {
     "iopub.execute_input": "2023-03-20T19:21:43.042310Z",
     "iopub.status.busy": "2023-03-20T19:21:43.041963Z",
     "iopub.status.idle": "2023-03-20T19:21:43.156986Z",
     "shell.execute_reply": "2023-03-20T19:21:43.154878Z"
    },
    "papermill": {
     "duration": 0.122914,
     "end_time": "2023-03-20T19:21:43.159260",
     "exception": false,
     "start_time": "2023-03-20T19:21:43.036346",
     "status": "completed"
    },
    "tags": []
   },
   "outputs": [
    {
     "name": "stdout",
     "output_type": "stream",
     "text": [
      "<class 'pandas.core.frame.DataFrame'>\n",
      "RangeIndex: 345407 entries, 0 to 345406\n",
      "Data columns (total 10 columns):\n",
      " #   Column            Non-Null Count   Dtype  \n",
      "---  ------            --------------   -----  \n",
      " 0   State             345407 non-null  object \n",
      " 1   District          345407 non-null  object \n",
      " 2   Crop              345375 non-null  object \n",
      " 3   Year              345407 non-null  object \n",
      " 4   Season            345406 non-null  object \n",
      " 5   Area              345374 non-null  float64\n",
      " 6   Area Units        345407 non-null  object \n",
      " 7   Production        340414 non-null  float64\n",
      " 8   Production Units  345407 non-null  object \n",
      " 9   Yield             345374 non-null  float64\n",
      "dtypes: float64(3), object(7)\n",
      "memory usage: 26.4+ MB\n"
     ]
    }
   ],
   "source": [
    "df.info()"
   ]
  },
  {
   "cell_type": "code",
   "execution_count": 4,
   "id": "e262c005",
   "metadata": {
    "execution": {
     "iopub.execute_input": "2023-03-20T19:21:43.171573Z",
     "iopub.status.busy": "2023-03-20T19:21:43.170583Z",
     "iopub.status.idle": "2023-03-20T19:21:43.180309Z",
     "shell.execute_reply": "2023-03-20T19:21:43.179007Z"
    },
    "papermill": {
     "duration": 0.017887,
     "end_time": "2023-03-20T19:21:43.182331",
     "exception": false,
     "start_time": "2023-03-20T19:21:43.164444",
     "status": "completed"
    },
    "tags": []
   },
   "outputs": [
    {
     "data": {
      "text/plain": [
       "0         1.643541\n",
       "1         1.655803\n",
       "2         1.209358\n",
       "3         1.690000\n",
       "4         1.696296\n",
       "            ...   \n",
       "345402         NaN\n",
       "345403         NaN\n",
       "345404         NaN\n",
       "345405         NaN\n",
       "345406         NaN\n",
       "Length: 345407, dtype: float64"
      ]
     },
     "execution_count": 4,
     "metadata": {},
     "output_type": "execute_result"
    }
   ],
   "source": [
    "df['Production']/df['Area']"
   ]
  },
  {
   "cell_type": "code",
   "execution_count": 5,
   "id": "edc2fc7d",
   "metadata": {
    "execution": {
     "iopub.execute_input": "2023-03-20T19:21:43.194710Z",
     "iopub.status.busy": "2023-03-20T19:21:43.194287Z",
     "iopub.status.idle": "2023-03-20T19:21:43.209139Z",
     "shell.execute_reply": "2023-03-20T19:21:43.208137Z"
    },
    "papermill": {
     "duration": 0.023423,
     "end_time": "2023-03-20T19:21:43.211193",
     "exception": false,
     "start_time": "2023-03-20T19:21:43.187770",
     "status": "completed"
    },
    "tags": []
   },
   "outputs": [
    {
     "data": {
      "text/html": [
       "<div>\n",
       "<style scoped>\n",
       "    .dataframe tbody tr th:only-of-type {\n",
       "        vertical-align: middle;\n",
       "    }\n",
       "\n",
       "    .dataframe tbody tr th {\n",
       "        vertical-align: top;\n",
       "    }\n",
       "\n",
       "    .dataframe thead th {\n",
       "        text-align: right;\n",
       "    }\n",
       "</style>\n",
       "<table border=\"1\" class=\"dataframe\">\n",
       "  <thead>\n",
       "    <tr style=\"text-align: right;\">\n",
       "      <th></th>\n",
       "      <th>State</th>\n",
       "      <th>District</th>\n",
       "      <th>Crop</th>\n",
       "      <th>Year</th>\n",
       "      <th>Season</th>\n",
       "      <th>Area</th>\n",
       "      <th>Area Units</th>\n",
       "      <th>Production</th>\n",
       "      <th>Production Units</th>\n",
       "      <th>Yield</th>\n",
       "    </tr>\n",
       "  </thead>\n",
       "  <tbody>\n",
       "    <tr>\n",
       "      <th>345402</th>\n",
       "      <td>Manipur</td>\n",
       "      <td>IMPHAL WEST</td>\n",
       "      <td>NaN</td>\n",
       "      <td>2019-20</td>\n",
       "      <td>Rabi</td>\n",
       "      <td>NaN</td>\n",
       "      <td>Hectare</td>\n",
       "      <td>NaN</td>\n",
       "      <td>Tonnes</td>\n",
       "      <td>NaN</td>\n",
       "    </tr>\n",
       "    <tr>\n",
       "      <th>345403</th>\n",
       "      <td>Manipur</td>\n",
       "      <td>SENAPATI</td>\n",
       "      <td>NaN</td>\n",
       "      <td>2019-20</td>\n",
       "      <td>Rabi</td>\n",
       "      <td>NaN</td>\n",
       "      <td>Hectare</td>\n",
       "      <td>NaN</td>\n",
       "      <td>Tonnes</td>\n",
       "      <td>NaN</td>\n",
       "    </tr>\n",
       "    <tr>\n",
       "      <th>345404</th>\n",
       "      <td>Manipur</td>\n",
       "      <td>TAMENGLONG</td>\n",
       "      <td>NaN</td>\n",
       "      <td>2019-20</td>\n",
       "      <td>Rabi</td>\n",
       "      <td>NaN</td>\n",
       "      <td>Hectare</td>\n",
       "      <td>NaN</td>\n",
       "      <td>Tonnes</td>\n",
       "      <td>NaN</td>\n",
       "    </tr>\n",
       "    <tr>\n",
       "      <th>345405</th>\n",
       "      <td>Manipur</td>\n",
       "      <td>THOUBAL</td>\n",
       "      <td>NaN</td>\n",
       "      <td>2019-20</td>\n",
       "      <td>Rabi</td>\n",
       "      <td>NaN</td>\n",
       "      <td>Hectare</td>\n",
       "      <td>NaN</td>\n",
       "      <td>Tonnes</td>\n",
       "      <td>NaN</td>\n",
       "    </tr>\n",
       "    <tr>\n",
       "      <th>345406</th>\n",
       "      <td>Manipur</td>\n",
       "      <td>UKHRUL</td>\n",
       "      <td>NaN</td>\n",
       "      <td>2019-20</td>\n",
       "      <td>Rabi</td>\n",
       "      <td>NaN</td>\n",
       "      <td>Hectare</td>\n",
       "      <td>NaN</td>\n",
       "      <td>Tonnes</td>\n",
       "      <td>NaN</td>\n",
       "    </tr>\n",
       "  </tbody>\n",
       "</table>\n",
       "</div>"
      ],
      "text/plain": [
       "          State     District Crop     Year Season  Area Area Units  \\\n",
       "345402  Manipur  IMPHAL WEST  NaN  2019-20   Rabi   NaN    Hectare   \n",
       "345403  Manipur     SENAPATI  NaN  2019-20   Rabi   NaN    Hectare   \n",
       "345404  Manipur   TAMENGLONG  NaN  2019-20   Rabi   NaN    Hectare   \n",
       "345405  Manipur      THOUBAL  NaN  2019-20   Rabi   NaN    Hectare   \n",
       "345406  Manipur       UKHRUL  NaN  2019-20   Rabi   NaN    Hectare   \n",
       "\n",
       "        Production Production Units  Yield  \n",
       "345402         NaN           Tonnes    NaN  \n",
       "345403         NaN           Tonnes    NaN  \n",
       "345404         NaN           Tonnes    NaN  \n",
       "345405         NaN           Tonnes    NaN  \n",
       "345406         NaN           Tonnes    NaN  "
      ]
     },
     "execution_count": 5,
     "metadata": {},
     "output_type": "execute_result"
    }
   ],
   "source": [
    "df.tail()"
   ]
  },
  {
   "cell_type": "code",
   "execution_count": null,
   "id": "20726b33",
   "metadata": {
    "papermill": {
     "duration": 0.005955,
     "end_time": "2023-03-20T19:21:43.224907",
     "exception": false,
     "start_time": "2023-03-20T19:21:43.218952",
     "status": "completed"
    },
    "tags": []
   },
   "outputs": [],
   "source": []
  },
  {
   "cell_type": "code",
   "execution_count": 6,
   "id": "c922c1a2",
   "metadata": {
    "execution": {
     "iopub.execute_input": "2023-03-20T19:21:43.236837Z",
     "iopub.status.busy": "2023-03-20T19:21:43.236411Z",
     "iopub.status.idle": "2023-03-20T19:21:43.241428Z",
     "shell.execute_reply": "2023-03-20T19:21:43.240785Z"
    },
    "papermill": {
     "duration": 0.013317,
     "end_time": "2023-03-20T19:21:43.243273",
     "exception": false,
     "start_time": "2023-03-20T19:21:43.229956",
     "status": "completed"
    },
    "tags": []
   },
   "outputs": [
    {
     "name": "stdout",
     "output_type": "stream",
     "text": [
      "4\n",
      "1.3862943611198906\n",
      "3\n"
     ]
    }
   ],
   "source": [
    "import math\n",
    "\n",
    "\n",
    "n = 4\n",
    "print(n)\n",
    "print(math.log(n))\n",
    "print(round(2.6))"
   ]
  },
  {
   "cell_type": "code",
   "execution_count": 7,
   "id": "e233a81b",
   "metadata": {
    "execution": {
     "iopub.execute_input": "2023-03-20T19:21:43.256239Z",
     "iopub.status.busy": "2023-03-20T19:21:43.255574Z",
     "iopub.status.idle": "2023-03-20T19:21:43.263854Z",
     "shell.execute_reply": "2023-03-20T19:21:43.262017Z"
    },
    "papermill": {
     "duration": 0.019077,
     "end_time": "2023-03-20T19:21:43.267395",
     "exception": false,
     "start_time": "2023-03-20T19:21:43.248318",
     "status": "completed"
    },
    "tags": []
   },
   "outputs": [
    {
     "name": "stdout",
     "output_type": "stream",
     "text": [
      "First line.\tSecond line.\n",
      "P\n",
      "y\n",
      "t\n",
      "h\n",
      "o\n",
      "n\n"
     ]
    },
    {
     "data": {
      "text/plain": [
       "3"
      ]
     },
     "execution_count": 7,
     "metadata": {},
     "output_type": "execute_result"
    }
   ],
   "source": [
    "s = 'First line.\\tSecond line.'\n",
    "print(s)\n",
    "\n",
    "word = 'Python'\n",
    "for character in word:\n",
    "    print(character)\n",
    "    \n",
    "\n",
    "good_features = [\n",
    "    'feature1',\n",
    "    'feature2',\n",
    "    'featuren'\n",
    "]\n",
    "len(good_features)"
   ]
  },
  {
   "cell_type": "code",
   "execution_count": 8,
   "id": "40f2706f",
   "metadata": {
    "execution": {
     "iopub.execute_input": "2023-03-20T19:21:43.280002Z",
     "iopub.status.busy": "2023-03-20T19:21:43.279574Z",
     "iopub.status.idle": "2023-03-20T19:21:43.289485Z",
     "shell.execute_reply": "2023-03-20T19:21:43.288124Z"
    },
    "papermill": {
     "duration": 0.019288,
     "end_time": "2023-03-20T19:21:43.292372",
     "exception": false,
     "start_time": "2023-03-20T19:21:43.273084",
     "status": "completed"
    },
    "tags": []
   },
   "outputs": [
    {
     "name": "stdout",
     "output_type": "stream",
     "text": [
      "ie\n"
     ]
    },
    {
     "data": {
      "text/plain": [
       "(1, 2, 3)"
      ]
     },
     "execution_count": 8,
     "metadata": {},
     "output_type": "execute_result"
    }
   ],
   "source": [
    "# import str\n",
    "\n",
    "s = 'IE'\n",
    "print(str.lower(s))\n",
    "'1|2|3'.split('|')\n",
    "\n",
    "\n",
    "\n",
    "# lists\n",
    "[1, 2, 3, 1, 1, 1]\n",
    "# tuples\n",
    "()\n",
    "# sets\n",
    "(1, 2, 3)"
   ]
  },
  {
   "cell_type": "code",
   "execution_count": 9,
   "id": "2cdc495e",
   "metadata": {
    "execution": {
     "iopub.execute_input": "2023-03-20T19:21:43.305787Z",
     "iopub.status.busy": "2023-03-20T19:21:43.305386Z",
     "iopub.status.idle": "2023-03-20T19:21:43.312246Z",
     "shell.execute_reply": "2023-03-20T19:21:43.311190Z"
    },
    "papermill": {
     "duration": 0.015923,
     "end_time": "2023-03-20T19:21:43.314403",
     "exception": false,
     "start_time": "2023-03-20T19:21:43.298480",
     "status": "completed"
    },
    "tags": []
   },
   "outputs": [
    {
     "name": "stdout",
     "output_type": "stream",
     "text": [
      "\n",
      "Tuple using List: \n",
      "(1, 2, 3, 3, 4, 5, 6)\n",
      "1\n",
      "1\n",
      "2\n",
      "{2, 3, 4, 5, 6}\n"
     ]
    }
   ],
   "source": [
    "list1 = [1, 2, 3, 3, 4, 5, 6]\n",
    "print(\"\\nTuple using List: \")\n",
    "print(tuple(list1))\n",
    "\n",
    "\n",
    "my_tuple = tuple(list1)\n",
    "print(my_tuple[0])\n",
    "# my_tuple[0] = 2\n",
    "\n",
    "my_list = list1\n",
    "print(my_list[0])\n",
    "my_list[0] = 2\n",
    "print(my_list[0])\n",
    "\n",
    "my_set = set(list1)\n",
    "print(my_set)"
   ]
  },
  {
   "cell_type": "code",
   "execution_count": 10,
   "id": "1215a675",
   "metadata": {
    "execution": {
     "iopub.execute_input": "2023-03-20T19:21:43.326711Z",
     "iopub.status.busy": "2023-03-20T19:21:43.326350Z",
     "iopub.status.idle": "2023-03-20T19:21:43.331926Z",
     "shell.execute_reply": "2023-03-20T19:21:43.330664Z"
    },
    "papermill": {
     "duration": 0.015083,
     "end_time": "2023-03-20T19:21:43.334924",
     "exception": false,
     "start_time": "2023-03-20T19:21:43.319841",
     "status": "completed"
    },
    "tags": []
   },
   "outputs": [],
   "source": [
    "tel = {\n",
    "    'jack': 4098, \n",
    "    'sape': 4139,\n",
    "    1: 'jack',\n",
    "    2: 'jill'\n",
    "}\n",
    "\n",
    "# tel = dict(\n",
    "#     [\n",
    "#         ('sape', 4139), \n",
    "#         ('guido', 4127), \n",
    "#         ('jack', 4098)\n",
    "#     ]\n",
    "# )"
   ]
  },
  {
   "cell_type": "code",
   "execution_count": 11,
   "id": "e5bd127c",
   "metadata": {
    "execution": {
     "iopub.execute_input": "2023-03-20T19:21:43.348454Z",
     "iopub.status.busy": "2023-03-20T19:21:43.348068Z",
     "iopub.status.idle": "2023-03-20T19:21:43.354348Z",
     "shell.execute_reply": "2023-03-20T19:21:43.353186Z"
    },
    "papermill": {
     "duration": 0.015841,
     "end_time": "2023-03-20T19:21:43.356867",
     "exception": false,
     "start_time": "2023-03-20T19:21:43.341026",
     "status": "completed"
    },
    "tags": []
   },
   "outputs": [
    {
     "name": "stdout",
     "output_type": "stream",
     "text": [
      "before the for loop\n",
      "\n",
      "in the for loop\n",
      "jack 4098\n",
      "key jack\n",
      "val 4098\n",
      "in the for loop\n",
      "sape 4139\n",
      "key sape\n",
      "val 4139\n",
      "in the for loop\n",
      "1 jack\n",
      "key 1\n",
      "val jack\n",
      "in the for loop\n",
      "2 jill\n",
      "key 2\n",
      "val jill\n",
      "\n",
      "after the for loop\n",
      "key 2\n",
      "val jill\n"
     ]
    }
   ],
   "source": [
    "cars = 'car1'\n",
    "print('before the for loop')\n",
    "print()\n",
    "\n",
    "for i, j in tel.items():\n",
    "    print('in the for loop')\n",
    "    print(i, j)\n",
    "    print(\"key\", i)\n",
    "    print(\"val\", j)\n",
    "    \n",
    "print()\n",
    "print('after the for loop')\n",
    "print(\"key\", i)\n",
    "print(\"val\", j)"
   ]
  },
  {
   "cell_type": "code",
   "execution_count": 12,
   "id": "3be5c53b",
   "metadata": {
    "execution": {
     "iopub.execute_input": "2023-03-20T19:21:43.369498Z",
     "iopub.status.busy": "2023-03-20T19:21:43.369146Z",
     "iopub.status.idle": "2023-03-20T19:21:43.376027Z",
     "shell.execute_reply": "2023-03-20T19:21:43.374421Z"
    },
    "papermill": {
     "duration": 0.015657,
     "end_time": "2023-03-20T19:21:43.378109",
     "exception": false,
     "start_time": "2023-03-20T19:21:43.362452",
     "status": "completed"
    },
    "tags": []
   },
   "outputs": [
    {
     "name": "stdout",
     "output_type": "stream",
     "text": [
      "tic\n",
      "tac\n",
      "toe\n",
      "0 tic\n",
      "tic\n",
      "1 tac\n",
      "tac\n",
      "2 toe\n",
      "toe\n"
     ]
    }
   ],
   "source": [
    "my_list = ['tic', 'tac', 'toe']\n",
    "print(my_list[0])\n",
    "print(my_list[1])\n",
    "print(my_list[2])\n",
    "\n",
    "for i, v in enumerate(my_list):\n",
    "    print(i, v)\n",
    "    print(my_list[i])"
   ]
  },
  {
   "cell_type": "markdown",
   "id": "d20384d5",
   "metadata": {
    "papermill": {
     "duration": 0.005301,
     "end_time": "2023-03-20T19:21:43.389134",
     "exception": false,
     "start_time": "2023-03-20T19:21:43.383833",
     "status": "completed"
    },
    "tags": []
   },
   "source": [
    "1. Write a function that accepts an integer (n) and computes the value of n + nn + nnn. (nn means n times n.)\n",
    "\n",
    "2a. Write a function that has as input parameter \"guess\" a guessed dice value, then throws a dice, and returns the difference between the thrown value and the guessed value.\n",
    "2b. Change the above function to guess the sum of three throws instead.\n",
    "2c. Write a function dice() that takes as input parameter the number of sides of the dice and returns a random dice throw. Edit the functions from 2a and 2b to use this function instead.\n",
    "\n",
    "3. Write a function that accepts the radius of a circle as input and computes the area.\n",
    "\n",
    "4. Take or rewrite the function that returns the Euclidean distance between two points.\n",
    "\n",
    "5. Write a function that takes a first and last name as input and returns them in reverse order, with the last name in capitals."
   ]
  },
  {
   "cell_type": "code",
   "execution_count": 13,
   "id": "64e01df1",
   "metadata": {
    "execution": {
     "iopub.execute_input": "2023-03-20T19:21:43.402089Z",
     "iopub.status.busy": "2023-03-20T19:21:43.401729Z",
     "iopub.status.idle": "2023-03-20T19:21:43.407244Z",
     "shell.execute_reply": "2023-03-20T19:21:43.406651Z"
    },
    "papermill": {
     "duration": 0.014223,
     "end_time": "2023-03-20T19:21:43.409209",
     "exception": false,
     "start_time": "2023-03-20T19:21:43.394986",
     "status": "completed"
    },
    "tags": []
   },
   "outputs": [
    {
     "name": "stdout",
     "output_type": "stream",
     "text": [
      "1110\n",
      "1110\n",
      "8420\n",
      "27930\n",
      "1110\n",
      "1110\n",
      "8420\n",
      "27930\n"
     ]
    }
   ],
   "source": [
    "# 1. Write a function that accepts an integer (n) and computes the value of n + nn + nnn. (nn means n times n.)\n",
    "\n",
    "def calc_eqn_n(n=10):\n",
    "    result = n + (n * n) + (n * n * n)\n",
    "    print(result)\n",
    "    return result\n",
    "\n",
    "result1 = calc_eqn_n()\n",
    "result2 = calc_eqn_n(n=10)\n",
    "result4 = calc_eqn_n(n=20)\n",
    "result6 = calc_eqn_n(n=30)\n",
    "\n",
    "print(result1)\n",
    "print(result2)\n",
    "print(result4)\n",
    "print(result6)"
   ]
  },
  {
   "cell_type": "code",
   "execution_count": 14,
   "id": "1718b757",
   "metadata": {
    "execution": {
     "iopub.execute_input": "2023-03-20T19:21:43.421565Z",
     "iopub.status.busy": "2023-03-20T19:21:43.421241Z",
     "iopub.status.idle": "2023-03-20T19:21:43.431349Z",
     "shell.execute_reply": "2023-03-20T19:21:43.429813Z"
    },
    "papermill": {
     "duration": 0.020025,
     "end_time": "2023-03-20T19:21:43.434595",
     "exception": false,
     "start_time": "2023-03-20T19:21:43.414570",
     "status": "completed"
    },
    "tags": []
   },
   "outputs": [
    {
     "name": "stdout",
     "output_type": "stream",
     "text": [
      "guess value is : 10\n",
      "thrown value1 is : 6\n",
      "thrown value2 is : 4\n",
      "thrown value3 is : 4\n",
      "sum : 14\n"
     ]
    },
    {
     "data": {
      "text/plain": [
       "4"
      ]
     },
     "execution_count": 14,
     "metadata": {},
     "output_type": "execute_result"
    }
   ],
   "source": [
    "# 2a. Write a function that has as input parameter \"guess\" a guessed dice value, then throws a dice, \n",
    "#     and returns the difference between the thrown value and the guessed value. \n",
    "# 2b. Change the above function to guess the sum of three throws instead. \n",
    "# 2c. Write a function dice() that takes as input parameter the number of sides of the dice \n",
    "#     and returns a random dice throw. Edit the functions from 2a and 2b to use this function instead.\n",
    "import random\n",
    "\n",
    "\n",
    "def calc_diff_thrown_guessed(guess_value):\n",
    "    print('guess value is :', guess_value)\n",
    "    thrown_value1 = random.randint(1,6)\n",
    "    print('thrown value1 is :', thrown_value1)\n",
    "    thrown_value2 = random.randint(1,6)\n",
    "    print('thrown value2 is :', thrown_value2)\n",
    "    thrown_value3 = random.randint(1,6)\n",
    "    print('thrown value3 is :', thrown_value3)\n",
    "    sum_three_throws = thrown_value1 + thrown_value2 + thrown_value3\n",
    "    print('sum :', sum_three_throws)\n",
    "    result = sum_three_throws - guess_value\n",
    "    return result\n",
    "\n",
    "calc_diff_thrown_guessed(guess_value=10)"
   ]
  },
  {
   "cell_type": "code",
   "execution_count": 15,
   "id": "b22e226c",
   "metadata": {
    "execution": {
     "iopub.execute_input": "2023-03-20T19:21:43.451242Z",
     "iopub.status.busy": "2023-03-20T19:21:43.450196Z",
     "iopub.status.idle": "2023-03-20T19:21:43.458853Z",
     "shell.execute_reply": "2023-03-20T19:21:43.456892Z"
    },
    "papermill": {
     "duration": 0.020197,
     "end_time": "2023-03-20T19:21:43.461437",
     "exception": false,
     "start_time": "2023-03-20T19:21:43.441240",
     "status": "completed"
    },
    "tags": []
   },
   "outputs": [
    {
     "data": {
      "text/plain": [
       "'KARLE yash'"
      ]
     },
     "execution_count": 15,
     "metadata": {},
     "output_type": "execute_result"
    }
   ],
   "source": [
    "# 5. Write a function that takes a first and last name as input and returns them in reverse order, with the last name in capitals.\n",
    "\n",
    "def reverse_capital(first_name, last_name):\n",
    "    last_name_cap = str.upper(last_name)\n",
    "    reversed_str = last_name_cap + ' ' + first_name\n",
    "    return reversed_str\n",
    "\n",
    "reverse_capital('yash', 'karle')\n",
    "# reverse_capital('jack', 'jill')\n",
    "# reverse_capital('tom', 'john')"
   ]
  },
  {
   "cell_type": "code",
   "execution_count": null,
   "id": "5aab5a93",
   "metadata": {
    "papermill": {
     "duration": 0.007061,
     "end_time": "2023-03-20T19:21:43.475849",
     "exception": false,
     "start_time": "2023-03-20T19:21:43.468788",
     "status": "completed"
    },
    "tags": []
   },
   "outputs": [],
   "source": []
  }
 ],
 "metadata": {
  "kernelspec": {
   "display_name": "Python 3",
   "language": "python",
   "name": "python3"
  },
  "language_info": {
   "codemirror_mode": {
    "name": "ipython",
    "version": 3
   },
   "file_extension": ".py",
   "mimetype": "text/x-python",
   "name": "python",
   "nbconvert_exporter": "python",
   "pygments_lexer": "ipython3",
   "version": "3.7.12"
  },
  "papermill": {
   "default_parameters": {},
   "duration": 10.383281,
   "end_time": "2023-03-20T19:21:44.103411",
   "environment_variables": {},
   "exception": null,
   "input_path": "__notebook__.ipynb",
   "output_path": "__notebook__.ipynb",
   "parameters": {},
   "start_time": "2023-03-20T19:21:33.720130",
   "version": "2.4.0"
  }
 },
 "nbformat": 4,
 "nbformat_minor": 5
}
